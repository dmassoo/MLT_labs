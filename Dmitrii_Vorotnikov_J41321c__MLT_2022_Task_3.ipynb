{
  "nbformat": 4,
  "nbformat_minor": 0,
  "metadata": {
    "colab": {
      "name": "Dmitrii_Vorotnikov_J41321c#_MLT_2022_Task_3.ipynb",
      "provenance": [],
      "collapsed_sections": [],
      "authorship_tag": "ABX9TyMW7EyEsRwBh7+5KWUKi4Cg",
      "include_colab_link": true
    },
    "kernelspec": {
      "name": "python3",
      "display_name": "Python 3"
    },
    "language_info": {
      "name": "python"
    }
  },
  "cells": [
    {
      "cell_type": "markdown",
      "metadata": {
        "id": "view-in-github",
        "colab_type": "text"
      },
      "source": [
        "<a href=\"https://colab.research.google.com/github/dmassoo/MLT_labs/blob/main/Dmitrii_Vorotnikov_J41321c__MLT_2022_Task_3.ipynb\" target=\"_parent\"><img src=\"https://colab.research.google.com/assets/colab-badge.svg\" alt=\"Open In Colab\"/></a>"
      ]
    },
    {
      "cell_type": "code",
      "execution_count": 10,
      "metadata": {
        "id": "aJk-0qJ1KFYh"
      },
      "outputs": [],
      "source": [
        "import numpy as np\n",
        "import matplotlib.pyplot as plt\n",
        "import scipy"
      ]
    },
    {
      "cell_type": "code",
      "source": [
        "def sigmoid(z):\n",
        "    \"\"\"\n",
        "    Compute the sigmoid of z\n",
        "\n",
        "    Arguments:\n",
        "    z -- A scalar or numpy array of any size.\n",
        "\n",
        "    Return:\n",
        "    s -- sigmoid(z)\n",
        "    \"\"\"\n",
        "    s = 1./(1.+np.exp(-z))\n",
        "    \n",
        "    return s"
      ],
      "metadata": {
        "id": "RrgqK1IWsQfE"
      },
      "execution_count": 11,
      "outputs": []
    },
    {
      "cell_type": "code",
      "source": [
        "def initialize_with_zeros(dim):\n",
        "    \"\"\"\n",
        "    This function creates a vector of zeros of shape (dim, 1) for w and initializes b to 0.\n",
        "    \n",
        "    Argument:\n",
        "    dim -- size of the w vector we want (or number of parameters in this case)\n",
        "    \n",
        "    Returns:\n",
        "    w -- initialized vector of shape (dim, 1)\n",
        "    b -- initialized scalar (corresponds to the bias)\n",
        "    \"\"\"\n",
        "    np.random.seed(42)\n",
        "    w = np.random.randn(dim).T\n",
        "    b = 0.\n",
        "    \n",
        "    return w, b"
      ],
      "metadata": {
        "id": "bhNcU7iPsTcB"
      },
      "execution_count": 12,
      "outputs": []
    },
    {
      "cell_type": "code",
      "source": [
        "def propagate(w, b, X, Y):\n",
        "    \"\"\"\n",
        "    Implement the cost function and its gradient for the propagation explained above\n",
        "\n",
        "    Arguments:\n",
        "    w -- weights, a numpy array of size which equals the number of features\n",
        "    b -- bias, a scalar\n",
        "    X -- data \n",
        "    Y -- true \"label\" vector (containing 0 and 1) of size (1, number of examples)\n",
        "\n",
        "    Return:\n",
        "    cost -- negative log-likelihood cost for logistic regression\n",
        "    dw -- gradient of the loss with respect to w, thus same shape as w\n",
        "    db -- gradient of the loss with respect to b, thus same shape as b\n",
        "    \n",
        "    \"\"\"\n",
        "    n = X.shape[0]\n",
        "    I = np.ones(n)\n",
        "    # FORWARD PROPAGATION (FROM X TO COST)\n",
        "    A = sigmoid(np.dot(X, w) + b)                          # compute activation\n",
        "    cost = -(1./n)*np.sum(Y*np.log(A)+(I-Y)*np.log(I-A))   # compute cost\n",
        "    \n",
        "    # BACKWARD PROPAGATION (TO FIND GRAD)\n",
        "    dw = (1./n)*np.dot(X.T, A-Y)\n",
        "    db = (1./n)*np.sum(A-Y)\n",
        "\n",
        "    grads = {\"dw\": dw,\n",
        "             \"db\": db}\n",
        "    \n",
        "    return grads, cost"
      ],
      "metadata": {
        "id": "ITE7YZPfsWku"
      },
      "execution_count": 67,
      "outputs": []
    },
    {
      "cell_type": "markdown",
      "source": [
        "### Propagation with SGD"
      ],
      "metadata": {
        "id": "1OA5TLe2q64z"
      }
    },
    {
      "cell_type": "code",
      "source": [
        "def propagate_sgd(w, b, X, Y):\n",
        "    from sklearn.utils import shuffle\n",
        "    batch_size = 32\n",
        "    X, Y = shuffle(X, Y, random_state=0)\n",
        "    B = X[0:batch_size]\n",
        "    Yb = Y[0:batch_size]\n",
        "    \n",
        "    A = sigmoid(np.dot(B, w) + b) # bm * m1 -> b1\n",
        "    I = np.ones(batch_size)\n",
        "    cost = -(1./batch_size)*np.sum(Yb*np.log(A)+(I-Yb)*np.log(I-A))\n",
        "\n",
        "    dw = (1./batch_size)*np.dot(B.T, A-Yb)\n",
        "    db = (1./batch_size)*np.sum(A-Yb)\n",
        "\n",
        "    grads = {\"dw\": dw,\n",
        "             \"db\": db}\n",
        "    \n",
        "    return grads, cost"
      ],
      "metadata": {
        "id": "07hzu7P6cdJx"
      },
      "execution_count": 74,
      "outputs": []
    },
    {
      "cell_type": "code",
      "source": [
        ""
      ],
      "metadata": {
        "id": "vta-k-jRDXhh"
      },
      "execution_count": 14,
      "outputs": []
    },
    {
      "cell_type": "code",
      "source": [
        "# added _propagate parameter - function \n",
        "def optimize(w, b, X, Y, num_iterations, learning_rate, _propagate = propagate, print_cost = False):\n",
        "    \"\"\"\n",
        "    This function optimizes w and b by running a gradient descent algorithm\n",
        "    \n",
        "    Arguments:\n",
        "    w -- weights, a numpy array \n",
        "    b -- bias, a scalar\n",
        "    X -- data \n",
        "    Y -- true \"label\" vector (containing 0 and 1), of shape (1, number of examples)\n",
        "    num_iterations -- number of iterations of the optimization loop\n",
        "    learning_rate -- learning rate of the gradient descent update rule\n",
        "    print_cost -- True to print the loss every 100 steps\n",
        "    \n",
        "    Returns:\n",
        "    params -- dictionary containing the weights w and bias b\n",
        "    grads -- dictionary containing the gradients of the weights and bias with respect to the cost function\n",
        "    costs -- list of all the costs computed during the optimization, this will be used to plot the learning curve.\n",
        "    \n",
        "    \"\"\"\n",
        "    \n",
        "    costs = []\n",
        "    # for plots later\n",
        "    it_nums = []\n",
        "    \n",
        "    for i in range(num_iterations):\n",
        "                \n",
        "        # Cost and gradient calculation \n",
        "        grads, cost = _propagate(w,b,X,Y)\n",
        "        \n",
        "        # Retrieve derivatives from grads\n",
        "        dw = grads[\"dw\"]\n",
        "        db = grads[\"db\"]\n",
        "        \n",
        "        # update rule\n",
        "        w -=learning_rate*dw\n",
        "        b -=learning_rate*db\n",
        "        \n",
        "        # Record the costs\n",
        "        if i % 100 == 0:\n",
        "            costs.append(cost)\n",
        "            it_nums.append(i)\n",
        "        \n",
        "        # Print the cost every 100 training iterations\n",
        "        if print_cost and i % 100 == 0:\n",
        "            print (\"Cost after iteration %i: %f\" %(i, cost))\n",
        "    \n",
        "    params = {\"w\": w,\n",
        "              \"b\": b}\n",
        "    \n",
        "    grads = {\"dw\": dw,\n",
        "             \"db\": db}\n",
        "    \n",
        "    return params, grads, costs, it_nums"
      ],
      "metadata": {
        "id": "vBqnI0V9saWQ"
      },
      "execution_count": 76,
      "outputs": []
    },
    {
      "cell_type": "code",
      "source": [
        "def predict(w, b, X):\n",
        "    '''\n",
        "    Predict whether the label is 0 or 1 using learned logistic regression parameters (w, b)\n",
        "    \n",
        "    Arguments:\n",
        "    w -- weights, a numpy array \n",
        "    b -- bias, a scalar\n",
        "    X -- data \n",
        "    \n",
        "    Returns:\n",
        "    Y_prediction -- a numpy array (vector) containing all predictions (0/1) for the examples in X\n",
        "    '''\n",
        "    \n",
        "    n = X.shape[0]\n",
        "    Y_prediction = np.zeros(n)\n",
        "    \n",
        "    # Compute vector \"A\" predicting the probabilities \n",
        "    A = sigmoid(np.dot(X, w)+b)\n",
        "    \n",
        "    for i in range(A.shape[0]):\n",
        "        \n",
        "        # Convert probabilities A[0,i] to actual predictions p[0,i]\n",
        "        if (A[i]<=0.5):\n",
        "            Y_prediction[i]=0\n",
        "        else:\n",
        "            Y_prediction[i]=1\n",
        "    \n",
        "    return Y_prediction"
      ],
      "metadata": {
        "id": "dxPVqwq2045b"
      },
      "execution_count": 16,
      "outputs": []
    },
    {
      "cell_type": "code",
      "source": [
        "def model(X_train, Y_train, X_test, Y_test, num_iterations = 2000, learning_rate = 0.5, print_cost = False, _propagate = propagate):\n",
        "    \"\"\"\n",
        "    Builds the logistic regression model by calling the function we've implemented previously\n",
        "    \n",
        "    Arguments:\n",
        "    X_train -- training set represented by a numpy array \n",
        "    Y_train -- training labels represented by a numpy array (vector) of shape (1, m_train)\n",
        "    X_test -- test set represented by a numpy array \n",
        "    Y_test -- test labels represented by a numpy array (vector) of shape (1, m_test)\n",
        "    num_iterations -- hyperparameter representing the number of iterations to optimize the parameters\n",
        "    learning_rate -- hyperparameter representing the learning rate used in the update rule of optimize()\n",
        "    print_cost -- Set to true to print the cost every 100 iterations\n",
        "    \n",
        "    Returns:\n",
        "    d -- dictionary containing information about the model.\n",
        "    \"\"\"\n",
        "    \n",
        "    # initialize parameters with zeros \n",
        "    w, b = initialize_with_zeros(X_train.shape[1])\n",
        "\n",
        "    # Gradient descent\n",
        "    parameters, grads, costs, it_nums = optimize(w, b, X_train, Y_train, num_iterations, learning_rate, _propagate, print_cost)\n",
        "    \n",
        "    # Retrieve parameters w and b from dictionary \"parameters\"\n",
        "    w = parameters[\"w\"]\n",
        "    b = parameters[\"b\"]\n",
        "    \n",
        "    # Predict test/train set examples\n",
        "    Y_prediction_test = predict(w, b, X_test)\n",
        "    Y_prediction_train = predict(w, b, X_train)\n",
        "\n",
        "    # Print train/test Errors\n",
        "    print(\"train accuracy: {} %\".format(100 - np.mean(np.abs(Y_prediction_train - Y_train.T)) * 100))\n",
        "    print(\"test accuracy: {} %\".format(100 - np.mean(np.abs(Y_prediction_test - Y_test.T)) * 100))\n",
        "\n",
        "    d = {\"costs\": costs,\n",
        "         \"iteration numbers\": it_nums,\n",
        "         \"Y_prediction_test\": Y_prediction_test, \n",
        "         \"Y_prediction_train\" : Y_prediction_train, \n",
        "         \"w\" : w, \n",
        "         \"b\" : b,\n",
        "         \"learning_rate\" : learning_rate,\n",
        "         \"num_iterations\": num_iterations}\n",
        "    \n",
        "    return d"
      ],
      "metadata": {
        "id": "OJQoqMWt0-zM"
      },
      "execution_count": 85,
      "outputs": []
    },
    {
      "cell_type": "code",
      "source": [
        "# d = model(train_set_x, train_set_y, test_set_x, test_set_y, num_iterations = 2000, learning_rate = 0.001, print_cost = True)"
      ],
      "metadata": {
        "id": "zBb5f3_n1Mgn"
      },
      "execution_count": 18,
      "outputs": []
    },
    {
      "cell_type": "code",
      "source": [
        "# params, grads, costs = optimize(w, b, X, Y, num_iterations= 1500, learning_rate = 0.005, print_cost = True)\n",
        "\n",
        "# print (\"w = \" + str(params[\"w\"]))\n",
        "# print (\"b = \" + str(params[\"b\"]))\n",
        "# print (\"dw = \" + str(grads[\"dw\"]))\n",
        "# print (\"db = \" + str(grads[\"db\"]))"
      ],
      "metadata": {
        "id": "XQTWSlqisfio"
      },
      "execution_count": 19,
      "outputs": []
    },
    {
      "cell_type": "markdown",
      "source": [
        "## Actual task"
      ],
      "metadata": {
        "id": "zHPF-UGctwgl"
      }
    },
    {
      "cell_type": "code",
      "source": [
        "# load data\n",
        "from google.colab import drive\n",
        "drive.mount('/content/drive/')"
      ],
      "metadata": {
        "colab": {
          "base_uri": "https://localhost:8080/"
        },
        "id": "HggfcI5Isz5v",
        "outputId": "ebbd7439-f9d6-47a6-90cf-f63c9229e66d"
      },
      "execution_count": 20,
      "outputs": [
        {
          "output_type": "stream",
          "name": "stdout",
          "text": [
            "Mounted at /content/drive/\n"
          ]
        }
      ]
    },
    {
      "cell_type": "code",
      "source": [
        "import pandas as pd\n",
        "df = pd.read_csv(\"/content/drive/MyDrive/MLT/bioresponse.csv\")\n",
        "df"
      ],
      "metadata": {
        "colab": {
          "base_uri": "https://localhost:8080/",
          "height": 487
        },
        "id": "ZMcQ_5-CuKuZ",
        "outputId": "6f6dc32a-5aa1-427e-cd9c-d875a8bda2a9"
      },
      "execution_count": 21,
      "outputs": [
        {
          "output_type": "execute_result",
          "data": {
            "text/html": [
              "\n",
              "  <div id=\"df-c7a575c4-1f39-4e26-939c-f8d0d4a65ea9\">\n",
              "    <div class=\"colab-df-container\">\n",
              "      <div>\n",
              "<style scoped>\n",
              "    .dataframe tbody tr th:only-of-type {\n",
              "        vertical-align: middle;\n",
              "    }\n",
              "\n",
              "    .dataframe tbody tr th {\n",
              "        vertical-align: top;\n",
              "    }\n",
              "\n",
              "    .dataframe thead th {\n",
              "        text-align: right;\n",
              "    }\n",
              "</style>\n",
              "<table border=\"1\" class=\"dataframe\">\n",
              "  <thead>\n",
              "    <tr style=\"text-align: right;\">\n",
              "      <th></th>\n",
              "      <th>Activity</th>\n",
              "      <th>D1</th>\n",
              "      <th>D2</th>\n",
              "      <th>D3</th>\n",
              "      <th>D4</th>\n",
              "      <th>D5</th>\n",
              "      <th>D6</th>\n",
              "      <th>D7</th>\n",
              "      <th>D8</th>\n",
              "      <th>D9</th>\n",
              "      <th>D10</th>\n",
              "      <th>D11</th>\n",
              "      <th>D12</th>\n",
              "      <th>D13</th>\n",
              "      <th>D14</th>\n",
              "      <th>D15</th>\n",
              "      <th>D16</th>\n",
              "      <th>D17</th>\n",
              "      <th>D18</th>\n",
              "      <th>D19</th>\n",
              "      <th>D20</th>\n",
              "      <th>D21</th>\n",
              "      <th>D22</th>\n",
              "      <th>D23</th>\n",
              "      <th>D24</th>\n",
              "      <th>D25</th>\n",
              "      <th>D26</th>\n",
              "      <th>D27</th>\n",
              "      <th>D28</th>\n",
              "      <th>D29</th>\n",
              "      <th>D30</th>\n",
              "      <th>D31</th>\n",
              "      <th>D32</th>\n",
              "      <th>D33</th>\n",
              "      <th>D34</th>\n",
              "      <th>D35</th>\n",
              "      <th>D36</th>\n",
              "      <th>D37</th>\n",
              "      <th>D38</th>\n",
              "      <th>D39</th>\n",
              "      <th>...</th>\n",
              "      <th>D1737</th>\n",
              "      <th>D1738</th>\n",
              "      <th>D1739</th>\n",
              "      <th>D1740</th>\n",
              "      <th>D1741</th>\n",
              "      <th>D1742</th>\n",
              "      <th>D1743</th>\n",
              "      <th>D1744</th>\n",
              "      <th>D1745</th>\n",
              "      <th>D1746</th>\n",
              "      <th>D1747</th>\n",
              "      <th>D1748</th>\n",
              "      <th>D1749</th>\n",
              "      <th>D1750</th>\n",
              "      <th>D1751</th>\n",
              "      <th>D1752</th>\n",
              "      <th>D1753</th>\n",
              "      <th>D1754</th>\n",
              "      <th>D1755</th>\n",
              "      <th>D1756</th>\n",
              "      <th>D1757</th>\n",
              "      <th>D1758</th>\n",
              "      <th>D1759</th>\n",
              "      <th>D1760</th>\n",
              "      <th>D1761</th>\n",
              "      <th>D1762</th>\n",
              "      <th>D1763</th>\n",
              "      <th>D1764</th>\n",
              "      <th>D1765</th>\n",
              "      <th>D1766</th>\n",
              "      <th>D1767</th>\n",
              "      <th>D1768</th>\n",
              "      <th>D1769</th>\n",
              "      <th>D1770</th>\n",
              "      <th>D1771</th>\n",
              "      <th>D1772</th>\n",
              "      <th>D1773</th>\n",
              "      <th>D1774</th>\n",
              "      <th>D1775</th>\n",
              "      <th>D1776</th>\n",
              "    </tr>\n",
              "  </thead>\n",
              "  <tbody>\n",
              "    <tr>\n",
              "      <th>0</th>\n",
              "      <td>1</td>\n",
              "      <td>0.000000</td>\n",
              "      <td>0.497009</td>\n",
              "      <td>0.10</td>\n",
              "      <td>0.0</td>\n",
              "      <td>0.132956</td>\n",
              "      <td>0.678031</td>\n",
              "      <td>0.273166</td>\n",
              "      <td>0.585445</td>\n",
              "      <td>0.743663</td>\n",
              "      <td>0.243144</td>\n",
              "      <td>0.187856</td>\n",
              "      <td>0.0000</td>\n",
              "      <td>0.000000</td>\n",
              "      <td>0.069000</td>\n",
              "      <td>0.362012</td>\n",
              "      <td>0.301773</td>\n",
              "      <td>0.597930</td>\n",
              "      <td>0.190813</td>\n",
              "      <td>0.107219</td>\n",
              "      <td>0.070500</td>\n",
              "      <td>0.00717</td>\n",
              "      <td>0.137931</td>\n",
              "      <td>1</td>\n",
              "      <td>0.00</td>\n",
              "      <td>0.496683</td>\n",
              "      <td>0.753131</td>\n",
              "      <td>1</td>\n",
              "      <td>1</td>\n",
              "      <td>0.000000</td>\n",
              "      <td>0.262919</td>\n",
              "      <td>0.077200</td>\n",
              "      <td>0.082700</td>\n",
              "      <td>0.200590</td>\n",
              "      <td>0.00000</td>\n",
              "      <td>0.000000</td>\n",
              "      <td>0.000000</td>\n",
              "      <td>0.00</td>\n",
              "      <td>0.162383</td>\n",
              "      <td>0.150153</td>\n",
              "      <td>...</td>\n",
              "      <td>0</td>\n",
              "      <td>0</td>\n",
              "      <td>0</td>\n",
              "      <td>0</td>\n",
              "      <td>0</td>\n",
              "      <td>0</td>\n",
              "      <td>0</td>\n",
              "      <td>0</td>\n",
              "      <td>0</td>\n",
              "      <td>0</td>\n",
              "      <td>0</td>\n",
              "      <td>0</td>\n",
              "      <td>0</td>\n",
              "      <td>0</td>\n",
              "      <td>0</td>\n",
              "      <td>0</td>\n",
              "      <td>0</td>\n",
              "      <td>0</td>\n",
              "      <td>0</td>\n",
              "      <td>0</td>\n",
              "      <td>0</td>\n",
              "      <td>0</td>\n",
              "      <td>0</td>\n",
              "      <td>0</td>\n",
              "      <td>0</td>\n",
              "      <td>0</td>\n",
              "      <td>0</td>\n",
              "      <td>0</td>\n",
              "      <td>0</td>\n",
              "      <td>0</td>\n",
              "      <td>0</td>\n",
              "      <td>0</td>\n",
              "      <td>0</td>\n",
              "      <td>0</td>\n",
              "      <td>0</td>\n",
              "      <td>0</td>\n",
              "      <td>0</td>\n",
              "      <td>0</td>\n",
              "      <td>0</td>\n",
              "      <td>0</td>\n",
              "    </tr>\n",
              "    <tr>\n",
              "      <th>1</th>\n",
              "      <td>1</td>\n",
              "      <td>0.366667</td>\n",
              "      <td>0.606291</td>\n",
              "      <td>0.05</td>\n",
              "      <td>0.0</td>\n",
              "      <td>0.111209</td>\n",
              "      <td>0.803455</td>\n",
              "      <td>0.106105</td>\n",
              "      <td>0.411754</td>\n",
              "      <td>0.836582</td>\n",
              "      <td>0.106480</td>\n",
              "      <td>0.101382</td>\n",
              "      <td>0.1875</td>\n",
              "      <td>0.193548</td>\n",
              "      <td>0.131001</td>\n",
              "      <td>0.350206</td>\n",
              "      <td>0.187419</td>\n",
              "      <td>0.762669</td>\n",
              "      <td>0.180473</td>\n",
              "      <td>0.329962</td>\n",
              "      <td>0.107681</td>\n",
              "      <td>0.01950</td>\n",
              "      <td>0.206897</td>\n",
              "      <td>0</td>\n",
              "      <td>0.75</td>\n",
              "      <td>0.449869</td>\n",
              "      <td>0.720484</td>\n",
              "      <td>0</td>\n",
              "      <td>0</td>\n",
              "      <td>0.666667</td>\n",
              "      <td>0.099400</td>\n",
              "      <td>0.289240</td>\n",
              "      <td>0.216710</td>\n",
              "      <td>0.100295</td>\n",
              "      <td>0.16958</td>\n",
              "      <td>0.235294</td>\n",
              "      <td>0.000000</td>\n",
              "      <td>0.00</td>\n",
              "      <td>0.119104</td>\n",
              "      <td>0.075100</td>\n",
              "      <td>...</td>\n",
              "      <td>0</td>\n",
              "      <td>1</td>\n",
              "      <td>1</td>\n",
              "      <td>0</td>\n",
              "      <td>0</td>\n",
              "      <td>0</td>\n",
              "      <td>1</td>\n",
              "      <td>1</td>\n",
              "      <td>0</td>\n",
              "      <td>1</td>\n",
              "      <td>0</td>\n",
              "      <td>0</td>\n",
              "      <td>1</td>\n",
              "      <td>0</td>\n",
              "      <td>1</td>\n",
              "      <td>1</td>\n",
              "      <td>1</td>\n",
              "      <td>0</td>\n",
              "      <td>0</td>\n",
              "      <td>0</td>\n",
              "      <td>1</td>\n",
              "      <td>0</td>\n",
              "      <td>0</td>\n",
              "      <td>0</td>\n",
              "      <td>1</td>\n",
              "      <td>0</td>\n",
              "      <td>1</td>\n",
              "      <td>1</td>\n",
              "      <td>0</td>\n",
              "      <td>0</td>\n",
              "      <td>1</td>\n",
              "      <td>1</td>\n",
              "      <td>1</td>\n",
              "      <td>1</td>\n",
              "      <td>0</td>\n",
              "      <td>1</td>\n",
              "      <td>0</td>\n",
              "      <td>0</td>\n",
              "      <td>1</td>\n",
              "      <td>0</td>\n",
              "    </tr>\n",
              "    <tr>\n",
              "      <th>2</th>\n",
              "      <td>1</td>\n",
              "      <td>0.033300</td>\n",
              "      <td>0.480124</td>\n",
              "      <td>0.00</td>\n",
              "      <td>0.0</td>\n",
              "      <td>0.209791</td>\n",
              "      <td>0.610350</td>\n",
              "      <td>0.356453</td>\n",
              "      <td>0.517720</td>\n",
              "      <td>0.679051</td>\n",
              "      <td>0.352308</td>\n",
              "      <td>0.193548</td>\n",
              "      <td>0.1250</td>\n",
              "      <td>0.000000</td>\n",
              "      <td>0.068900</td>\n",
              "      <td>0.574628</td>\n",
              "      <td>0.283327</td>\n",
              "      <td>0.510633</td>\n",
              "      <td>0.184480</td>\n",
              "      <td>0.073300</td>\n",
              "      <td>0.061600</td>\n",
              "      <td>0.00566</td>\n",
              "      <td>0.000000</td>\n",
              "      <td>1</td>\n",
              "      <td>0.00</td>\n",
              "      <td>0.486610</td>\n",
              "      <td>0.803577</td>\n",
              "      <td>0</td>\n",
              "      <td>1</td>\n",
              "      <td>0.000000</td>\n",
              "      <td>0.428659</td>\n",
              "      <td>0.032400</td>\n",
              "      <td>0.072400</td>\n",
              "      <td>0.000000</td>\n",
              "      <td>0.03930</td>\n",
              "      <td>0.000000</td>\n",
              "      <td>0.000000</td>\n",
              "      <td>0.00</td>\n",
              "      <td>0.076100</td>\n",
              "      <td>0.225229</td>\n",
              "      <td>...</td>\n",
              "      <td>0</td>\n",
              "      <td>0</td>\n",
              "      <td>0</td>\n",
              "      <td>0</td>\n",
              "      <td>0</td>\n",
              "      <td>0</td>\n",
              "      <td>0</td>\n",
              "      <td>0</td>\n",
              "      <td>0</td>\n",
              "      <td>0</td>\n",
              "      <td>0</td>\n",
              "      <td>0</td>\n",
              "      <td>0</td>\n",
              "      <td>0</td>\n",
              "      <td>0</td>\n",
              "      <td>0</td>\n",
              "      <td>0</td>\n",
              "      <td>0</td>\n",
              "      <td>0</td>\n",
              "      <td>0</td>\n",
              "      <td>0</td>\n",
              "      <td>0</td>\n",
              "      <td>0</td>\n",
              "      <td>0</td>\n",
              "      <td>0</td>\n",
              "      <td>0</td>\n",
              "      <td>0</td>\n",
              "      <td>0</td>\n",
              "      <td>0</td>\n",
              "      <td>0</td>\n",
              "      <td>0</td>\n",
              "      <td>0</td>\n",
              "      <td>0</td>\n",
              "      <td>0</td>\n",
              "      <td>0</td>\n",
              "      <td>0</td>\n",
              "      <td>0</td>\n",
              "      <td>0</td>\n",
              "      <td>0</td>\n",
              "      <td>0</td>\n",
              "    </tr>\n",
              "    <tr>\n",
              "      <th>3</th>\n",
              "      <td>1</td>\n",
              "      <td>0.000000</td>\n",
              "      <td>0.538825</td>\n",
              "      <td>0.00</td>\n",
              "      <td>0.5</td>\n",
              "      <td>0.196344</td>\n",
              "      <td>0.724230</td>\n",
              "      <td>0.235606</td>\n",
              "      <td>0.288764</td>\n",
              "      <td>0.805110</td>\n",
              "      <td>0.208989</td>\n",
              "      <td>0.000000</td>\n",
              "      <td>0.0000</td>\n",
              "      <td>0.000000</td>\n",
              "      <td>0.145947</td>\n",
              "      <td>0.584688</td>\n",
              "      <td>0.325247</td>\n",
              "      <td>0.496745</td>\n",
              "      <td>0.242288</td>\n",
              "      <td>0.087700</td>\n",
              "      <td>0.075300</td>\n",
              "      <td>0.01680</td>\n",
              "      <td>0.000000</td>\n",
              "      <td>1</td>\n",
              "      <td>0.00</td>\n",
              "      <td>0.459122</td>\n",
              "      <td>0.829482</td>\n",
              "      <td>0</td>\n",
              "      <td>1</td>\n",
              "      <td>0.000000</td>\n",
              "      <td>0.435410</td>\n",
              "      <td>0.118562</td>\n",
              "      <td>0.000000</td>\n",
              "      <td>0.000000</td>\n",
              "      <td>0.00000</td>\n",
              "      <td>0.000000</td>\n",
              "      <td>0.000000</td>\n",
              "      <td>0.00</td>\n",
              "      <td>0.068900</td>\n",
              "      <td>0.000000</td>\n",
              "      <td>...</td>\n",
              "      <td>0</td>\n",
              "      <td>0</td>\n",
              "      <td>0</td>\n",
              "      <td>0</td>\n",
              "      <td>0</td>\n",
              "      <td>0</td>\n",
              "      <td>0</td>\n",
              "      <td>0</td>\n",
              "      <td>0</td>\n",
              "      <td>0</td>\n",
              "      <td>0</td>\n",
              "      <td>0</td>\n",
              "      <td>0</td>\n",
              "      <td>0</td>\n",
              "      <td>0</td>\n",
              "      <td>0</td>\n",
              "      <td>0</td>\n",
              "      <td>0</td>\n",
              "      <td>0</td>\n",
              "      <td>0</td>\n",
              "      <td>0</td>\n",
              "      <td>0</td>\n",
              "      <td>0</td>\n",
              "      <td>0</td>\n",
              "      <td>0</td>\n",
              "      <td>0</td>\n",
              "      <td>0</td>\n",
              "      <td>0</td>\n",
              "      <td>0</td>\n",
              "      <td>0</td>\n",
              "      <td>0</td>\n",
              "      <td>0</td>\n",
              "      <td>0</td>\n",
              "      <td>0</td>\n",
              "      <td>0</td>\n",
              "      <td>0</td>\n",
              "      <td>0</td>\n",
              "      <td>0</td>\n",
              "      <td>0</td>\n",
              "      <td>0</td>\n",
              "    </tr>\n",
              "    <tr>\n",
              "      <th>4</th>\n",
              "      <td>0</td>\n",
              "      <td>0.100000</td>\n",
              "      <td>0.517794</td>\n",
              "      <td>0.00</td>\n",
              "      <td>0.0</td>\n",
              "      <td>0.494734</td>\n",
              "      <td>0.781422</td>\n",
              "      <td>0.154361</td>\n",
              "      <td>0.303809</td>\n",
              "      <td>0.812646</td>\n",
              "      <td>0.125177</td>\n",
              "      <td>0.532258</td>\n",
              "      <td>0.0000</td>\n",
              "      <td>0.000000</td>\n",
              "      <td>0.094900</td>\n",
              "      <td>0.540323</td>\n",
              "      <td>0.116775</td>\n",
              "      <td>0.552982</td>\n",
              "      <td>0.167897</td>\n",
              "      <td>0.116140</td>\n",
              "      <td>0.054200</td>\n",
              "      <td>0.01350</td>\n",
              "      <td>0.103448</td>\n",
              "      <td>1</td>\n",
              "      <td>0.00</td>\n",
              "      <td>0.381883</td>\n",
              "      <td>0.913374</td>\n",
              "      <td>0</td>\n",
              "      <td>1</td>\n",
              "      <td>0.000000</td>\n",
              "      <td>0.305333</td>\n",
              "      <td>0.054100</td>\n",
              "      <td>0.170822</td>\n",
              "      <td>0.000000</td>\n",
              "      <td>0.00000</td>\n",
              "      <td>0.176471</td>\n",
              "      <td>0.000000</td>\n",
              "      <td>0.00</td>\n",
              "      <td>0.019900</td>\n",
              "      <td>0.057400</td>\n",
              "      <td>...</td>\n",
              "      <td>0</td>\n",
              "      <td>0</td>\n",
              "      <td>0</td>\n",
              "      <td>0</td>\n",
              "      <td>0</td>\n",
              "      <td>0</td>\n",
              "      <td>0</td>\n",
              "      <td>0</td>\n",
              "      <td>0</td>\n",
              "      <td>0</td>\n",
              "      <td>0</td>\n",
              "      <td>0</td>\n",
              "      <td>0</td>\n",
              "      <td>0</td>\n",
              "      <td>0</td>\n",
              "      <td>0</td>\n",
              "      <td>0</td>\n",
              "      <td>0</td>\n",
              "      <td>0</td>\n",
              "      <td>0</td>\n",
              "      <td>0</td>\n",
              "      <td>0</td>\n",
              "      <td>0</td>\n",
              "      <td>0</td>\n",
              "      <td>0</td>\n",
              "      <td>0</td>\n",
              "      <td>0</td>\n",
              "      <td>0</td>\n",
              "      <td>0</td>\n",
              "      <td>0</td>\n",
              "      <td>0</td>\n",
              "      <td>0</td>\n",
              "      <td>0</td>\n",
              "      <td>0</td>\n",
              "      <td>0</td>\n",
              "      <td>0</td>\n",
              "      <td>0</td>\n",
              "      <td>0</td>\n",
              "      <td>0</td>\n",
              "      <td>0</td>\n",
              "    </tr>\n",
              "    <tr>\n",
              "      <th>...</th>\n",
              "      <td>...</td>\n",
              "      <td>...</td>\n",
              "      <td>...</td>\n",
              "      <td>...</td>\n",
              "      <td>...</td>\n",
              "      <td>...</td>\n",
              "      <td>...</td>\n",
              "      <td>...</td>\n",
              "      <td>...</td>\n",
              "      <td>...</td>\n",
              "      <td>...</td>\n",
              "      <td>...</td>\n",
              "      <td>...</td>\n",
              "      <td>...</td>\n",
              "      <td>...</td>\n",
              "      <td>...</td>\n",
              "      <td>...</td>\n",
              "      <td>...</td>\n",
              "      <td>...</td>\n",
              "      <td>...</td>\n",
              "      <td>...</td>\n",
              "      <td>...</td>\n",
              "      <td>...</td>\n",
              "      <td>...</td>\n",
              "      <td>...</td>\n",
              "      <td>...</td>\n",
              "      <td>...</td>\n",
              "      <td>...</td>\n",
              "      <td>...</td>\n",
              "      <td>...</td>\n",
              "      <td>...</td>\n",
              "      <td>...</td>\n",
              "      <td>...</td>\n",
              "      <td>...</td>\n",
              "      <td>...</td>\n",
              "      <td>...</td>\n",
              "      <td>...</td>\n",
              "      <td>...</td>\n",
              "      <td>...</td>\n",
              "      <td>...</td>\n",
              "      <td>...</td>\n",
              "      <td>...</td>\n",
              "      <td>...</td>\n",
              "      <td>...</td>\n",
              "      <td>...</td>\n",
              "      <td>...</td>\n",
              "      <td>...</td>\n",
              "      <td>...</td>\n",
              "      <td>...</td>\n",
              "      <td>...</td>\n",
              "      <td>...</td>\n",
              "      <td>...</td>\n",
              "      <td>...</td>\n",
              "      <td>...</td>\n",
              "      <td>...</td>\n",
              "      <td>...</td>\n",
              "      <td>...</td>\n",
              "      <td>...</td>\n",
              "      <td>...</td>\n",
              "      <td>...</td>\n",
              "      <td>...</td>\n",
              "      <td>...</td>\n",
              "      <td>...</td>\n",
              "      <td>...</td>\n",
              "      <td>...</td>\n",
              "      <td>...</td>\n",
              "      <td>...</td>\n",
              "      <td>...</td>\n",
              "      <td>...</td>\n",
              "      <td>...</td>\n",
              "      <td>...</td>\n",
              "      <td>...</td>\n",
              "      <td>...</td>\n",
              "      <td>...</td>\n",
              "      <td>...</td>\n",
              "      <td>...</td>\n",
              "      <td>...</td>\n",
              "      <td>...</td>\n",
              "      <td>...</td>\n",
              "      <td>...</td>\n",
              "      <td>...</td>\n",
              "    </tr>\n",
              "    <tr>\n",
              "      <th>3746</th>\n",
              "      <td>1</td>\n",
              "      <td>0.033300</td>\n",
              "      <td>0.506409</td>\n",
              "      <td>0.10</td>\n",
              "      <td>0.0</td>\n",
              "      <td>0.209887</td>\n",
              "      <td>0.633426</td>\n",
              "      <td>0.297659</td>\n",
              "      <td>0.376124</td>\n",
              "      <td>0.727093</td>\n",
              "      <td>0.308163</td>\n",
              "      <td>0.000000</td>\n",
              "      <td>0.0000</td>\n",
              "      <td>0.000000</td>\n",
              "      <td>0.071800</td>\n",
              "      <td>0.362006</td>\n",
              "      <td>0.229374</td>\n",
              "      <td>0.603893</td>\n",
              "      <td>0.129706</td>\n",
              "      <td>0.092400</td>\n",
              "      <td>0.036100</td>\n",
              "      <td>0.00473</td>\n",
              "      <td>0.069000</td>\n",
              "      <td>1</td>\n",
              "      <td>0.00</td>\n",
              "      <td>0.486439</td>\n",
              "      <td>0.783710</td>\n",
              "      <td>1</td>\n",
              "      <td>1</td>\n",
              "      <td>0.000000</td>\n",
              "      <td>0.364694</td>\n",
              "      <td>0.136861</td>\n",
              "      <td>0.047300</td>\n",
              "      <td>0.100295</td>\n",
              "      <td>0.00000</td>\n",
              "      <td>0.000000</td>\n",
              "      <td>0.000000</td>\n",
              "      <td>0.00</td>\n",
              "      <td>0.223324</td>\n",
              "      <td>0.000000</td>\n",
              "      <td>...</td>\n",
              "      <td>0</td>\n",
              "      <td>0</td>\n",
              "      <td>0</td>\n",
              "      <td>0</td>\n",
              "      <td>0</td>\n",
              "      <td>0</td>\n",
              "      <td>0</td>\n",
              "      <td>0</td>\n",
              "      <td>0</td>\n",
              "      <td>0</td>\n",
              "      <td>0</td>\n",
              "      <td>0</td>\n",
              "      <td>0</td>\n",
              "      <td>0</td>\n",
              "      <td>0</td>\n",
              "      <td>0</td>\n",
              "      <td>0</td>\n",
              "      <td>0</td>\n",
              "      <td>0</td>\n",
              "      <td>0</td>\n",
              "      <td>0</td>\n",
              "      <td>0</td>\n",
              "      <td>0</td>\n",
              "      <td>0</td>\n",
              "      <td>0</td>\n",
              "      <td>0</td>\n",
              "      <td>0</td>\n",
              "      <td>0</td>\n",
              "      <td>0</td>\n",
              "      <td>0</td>\n",
              "      <td>0</td>\n",
              "      <td>0</td>\n",
              "      <td>0</td>\n",
              "      <td>0</td>\n",
              "      <td>0</td>\n",
              "      <td>0</td>\n",
              "      <td>0</td>\n",
              "      <td>0</td>\n",
              "      <td>0</td>\n",
              "      <td>0</td>\n",
              "    </tr>\n",
              "    <tr>\n",
              "      <th>3747</th>\n",
              "      <td>1</td>\n",
              "      <td>0.133333</td>\n",
              "      <td>0.651023</td>\n",
              "      <td>0.15</td>\n",
              "      <td>0.0</td>\n",
              "      <td>0.151154</td>\n",
              "      <td>0.766505</td>\n",
              "      <td>0.170876</td>\n",
              "      <td>0.404546</td>\n",
              "      <td>0.787935</td>\n",
              "      <td>0.192527</td>\n",
              "      <td>0.085200</td>\n",
              "      <td>0.2500</td>\n",
              "      <td>0.064500</td>\n",
              "      <td>0.121309</td>\n",
              "      <td>0.347521</td>\n",
              "      <td>0.250846</td>\n",
              "      <td>0.660747</td>\n",
              "      <td>0.221975</td>\n",
              "      <td>0.167944</td>\n",
              "      <td>0.065700</td>\n",
              "      <td>0.00939</td>\n",
              "      <td>0.172414</td>\n",
              "      <td>1</td>\n",
              "      <td>0.00</td>\n",
              "      <td>0.390864</td>\n",
              "      <td>0.815279</td>\n",
              "      <td>0</td>\n",
              "      <td>1</td>\n",
              "      <td>0.000000</td>\n",
              "      <td>0.153533</td>\n",
              "      <td>0.127563</td>\n",
              "      <td>0.122141</td>\n",
              "      <td>0.104815</td>\n",
              "      <td>0.08000</td>\n",
              "      <td>0.191429</td>\n",
              "      <td>0.146735</td>\n",
              "      <td>0.00</td>\n",
              "      <td>0.101137</td>\n",
              "      <td>0.075100</td>\n",
              "      <td>...</td>\n",
              "      <td>1</td>\n",
              "      <td>1</td>\n",
              "      <td>0</td>\n",
              "      <td>1</td>\n",
              "      <td>1</td>\n",
              "      <td>1</td>\n",
              "      <td>1</td>\n",
              "      <td>0</td>\n",
              "      <td>1</td>\n",
              "      <td>0</td>\n",
              "      <td>0</td>\n",
              "      <td>1</td>\n",
              "      <td>0</td>\n",
              "      <td>0</td>\n",
              "      <td>0</td>\n",
              "      <td>0</td>\n",
              "      <td>1</td>\n",
              "      <td>1</td>\n",
              "      <td>1</td>\n",
              "      <td>0</td>\n",
              "      <td>1</td>\n",
              "      <td>0</td>\n",
              "      <td>0</td>\n",
              "      <td>0</td>\n",
              "      <td>1</td>\n",
              "      <td>1</td>\n",
              "      <td>1</td>\n",
              "      <td>1</td>\n",
              "      <td>1</td>\n",
              "      <td>0</td>\n",
              "      <td>0</td>\n",
              "      <td>0</td>\n",
              "      <td>1</td>\n",
              "      <td>0</td>\n",
              "      <td>1</td>\n",
              "      <td>0</td>\n",
              "      <td>1</td>\n",
              "      <td>0</td>\n",
              "      <td>0</td>\n",
              "      <td>0</td>\n",
              "    </tr>\n",
              "    <tr>\n",
              "      <th>3748</th>\n",
              "      <td>0</td>\n",
              "      <td>0.200000</td>\n",
              "      <td>0.520564</td>\n",
              "      <td>0.00</td>\n",
              "      <td>0.0</td>\n",
              "      <td>0.179949</td>\n",
              "      <td>0.768785</td>\n",
              "      <td>0.177341</td>\n",
              "      <td>0.471179</td>\n",
              "      <td>0.872241</td>\n",
              "      <td>0.122132</td>\n",
              "      <td>0.624027</td>\n",
              "      <td>0.1875</td>\n",
              "      <td>0.064500</td>\n",
              "      <td>0.091700</td>\n",
              "      <td>0.519094</td>\n",
              "      <td>0.243037</td>\n",
              "      <td>0.691896</td>\n",
              "      <td>0.215831</td>\n",
              "      <td>0.338637</td>\n",
              "      <td>0.290643</td>\n",
              "      <td>0.04450</td>\n",
              "      <td>0.103448</td>\n",
              "      <td>1</td>\n",
              "      <td>0.00</td>\n",
              "      <td>0.590995</td>\n",
              "      <td>0.581372</td>\n",
              "      <td>0</td>\n",
              "      <td>0</td>\n",
              "      <td>0.333333</td>\n",
              "      <td>0.128839</td>\n",
              "      <td>0.357203</td>\n",
              "      <td>0.077600</td>\n",
              "      <td>0.028500</td>\n",
              "      <td>0.06200</td>\n",
              "      <td>0.308468</td>\n",
              "      <td>0.166667</td>\n",
              "      <td>0.00</td>\n",
              "      <td>0.019900</td>\n",
              "      <td>0.377263</td>\n",
              "      <td>...</td>\n",
              "      <td>0</td>\n",
              "      <td>0</td>\n",
              "      <td>0</td>\n",
              "      <td>0</td>\n",
              "      <td>0</td>\n",
              "      <td>0</td>\n",
              "      <td>0</td>\n",
              "      <td>0</td>\n",
              "      <td>0</td>\n",
              "      <td>0</td>\n",
              "      <td>0</td>\n",
              "      <td>0</td>\n",
              "      <td>0</td>\n",
              "      <td>0</td>\n",
              "      <td>0</td>\n",
              "      <td>0</td>\n",
              "      <td>0</td>\n",
              "      <td>0</td>\n",
              "      <td>0</td>\n",
              "      <td>0</td>\n",
              "      <td>0</td>\n",
              "      <td>0</td>\n",
              "      <td>0</td>\n",
              "      <td>0</td>\n",
              "      <td>0</td>\n",
              "      <td>0</td>\n",
              "      <td>0</td>\n",
              "      <td>0</td>\n",
              "      <td>0</td>\n",
              "      <td>0</td>\n",
              "      <td>0</td>\n",
              "      <td>0</td>\n",
              "      <td>0</td>\n",
              "      <td>0</td>\n",
              "      <td>0</td>\n",
              "      <td>0</td>\n",
              "      <td>0</td>\n",
              "      <td>0</td>\n",
              "      <td>0</td>\n",
              "      <td>0</td>\n",
              "    </tr>\n",
              "    <tr>\n",
              "      <th>3749</th>\n",
              "      <td>1</td>\n",
              "      <td>0.100000</td>\n",
              "      <td>0.765646</td>\n",
              "      <td>0.00</td>\n",
              "      <td>0.0</td>\n",
              "      <td>0.536954</td>\n",
              "      <td>0.634936</td>\n",
              "      <td>0.342713</td>\n",
              "      <td>0.447162</td>\n",
              "      <td>0.672689</td>\n",
              "      <td>0.372936</td>\n",
              "      <td>0.319355</td>\n",
              "      <td>0.1875</td>\n",
              "      <td>0.000000</td>\n",
              "      <td>0.273901</td>\n",
              "      <td>0.549001</td>\n",
              "      <td>0.567326</td>\n",
              "      <td>0.427189</td>\n",
              "      <td>0.332955</td>\n",
              "      <td>0.168837</td>\n",
              "      <td>0.105198</td>\n",
              "      <td>0.02240</td>\n",
              "      <td>0.034500</td>\n",
              "      <td>1</td>\n",
              "      <td>0.00</td>\n",
              "      <td>0.471154</td>\n",
              "      <td>0.795728</td>\n",
              "      <td>1</td>\n",
              "      <td>1</td>\n",
              "      <td>0.000000</td>\n",
              "      <td>0.282592</td>\n",
              "      <td>0.005600</td>\n",
              "      <td>0.010300</td>\n",
              "      <td>0.070200</td>\n",
              "      <td>0.08590</td>\n",
              "      <td>0.058800</td>\n",
              "      <td>0.000000</td>\n",
              "      <td>0.25</td>\n",
              "      <td>0.000000</td>\n",
              "      <td>0.271839</td>\n",
              "      <td>...</td>\n",
              "      <td>0</td>\n",
              "      <td>0</td>\n",
              "      <td>0</td>\n",
              "      <td>0</td>\n",
              "      <td>0</td>\n",
              "      <td>0</td>\n",
              "      <td>0</td>\n",
              "      <td>0</td>\n",
              "      <td>0</td>\n",
              "      <td>0</td>\n",
              "      <td>0</td>\n",
              "      <td>0</td>\n",
              "      <td>0</td>\n",
              "      <td>0</td>\n",
              "      <td>0</td>\n",
              "      <td>0</td>\n",
              "      <td>0</td>\n",
              "      <td>0</td>\n",
              "      <td>0</td>\n",
              "      <td>0</td>\n",
              "      <td>0</td>\n",
              "      <td>0</td>\n",
              "      <td>0</td>\n",
              "      <td>0</td>\n",
              "      <td>0</td>\n",
              "      <td>0</td>\n",
              "      <td>0</td>\n",
              "      <td>0</td>\n",
              "      <td>0</td>\n",
              "      <td>0</td>\n",
              "      <td>0</td>\n",
              "      <td>0</td>\n",
              "      <td>0</td>\n",
              "      <td>0</td>\n",
              "      <td>0</td>\n",
              "      <td>0</td>\n",
              "      <td>0</td>\n",
              "      <td>0</td>\n",
              "      <td>0</td>\n",
              "      <td>0</td>\n",
              "    </tr>\n",
              "    <tr>\n",
              "      <th>3750</th>\n",
              "      <td>0</td>\n",
              "      <td>0.133333</td>\n",
              "      <td>0.533952</td>\n",
              "      <td>0.00</td>\n",
              "      <td>0.0</td>\n",
              "      <td>0.347966</td>\n",
              "      <td>0.757971</td>\n",
              "      <td>0.230667</td>\n",
              "      <td>0.272652</td>\n",
              "      <td>0.854116</td>\n",
              "      <td>0.140316</td>\n",
              "      <td>0.736973</td>\n",
              "      <td>0.1250</td>\n",
              "      <td>0.000000</td>\n",
              "      <td>0.097900</td>\n",
              "      <td>0.548488</td>\n",
              "      <td>0.170359</td>\n",
              "      <td>0.608174</td>\n",
              "      <td>0.198938</td>\n",
              "      <td>0.161527</td>\n",
              "      <td>0.302829</td>\n",
              "      <td>0.02470</td>\n",
              "      <td>0.069000</td>\n",
              "      <td>1</td>\n",
              "      <td>0.00</td>\n",
              "      <td>0.477220</td>\n",
              "      <td>0.821335</td>\n",
              "      <td>0</td>\n",
              "      <td>1</td>\n",
              "      <td>0.000000</td>\n",
              "      <td>0.221986</td>\n",
              "      <td>0.217089</td>\n",
              "      <td>0.000000</td>\n",
              "      <td>0.000000</td>\n",
              "      <td>0.00000</td>\n",
              "      <td>0.117647</td>\n",
              "      <td>0.333333</td>\n",
              "      <td>0.00</td>\n",
              "      <td>0.039900</td>\n",
              "      <td>0.106612</td>\n",
              "      <td>...</td>\n",
              "      <td>0</td>\n",
              "      <td>0</td>\n",
              "      <td>0</td>\n",
              "      <td>0</td>\n",
              "      <td>0</td>\n",
              "      <td>0</td>\n",
              "      <td>0</td>\n",
              "      <td>0</td>\n",
              "      <td>0</td>\n",
              "      <td>0</td>\n",
              "      <td>0</td>\n",
              "      <td>0</td>\n",
              "      <td>0</td>\n",
              "      <td>0</td>\n",
              "      <td>0</td>\n",
              "      <td>0</td>\n",
              "      <td>0</td>\n",
              "      <td>0</td>\n",
              "      <td>0</td>\n",
              "      <td>0</td>\n",
              "      <td>0</td>\n",
              "      <td>0</td>\n",
              "      <td>0</td>\n",
              "      <td>0</td>\n",
              "      <td>0</td>\n",
              "      <td>0</td>\n",
              "      <td>0</td>\n",
              "      <td>0</td>\n",
              "      <td>0</td>\n",
              "      <td>0</td>\n",
              "      <td>0</td>\n",
              "      <td>0</td>\n",
              "      <td>0</td>\n",
              "      <td>0</td>\n",
              "      <td>0</td>\n",
              "      <td>0</td>\n",
              "      <td>0</td>\n",
              "      <td>0</td>\n",
              "      <td>0</td>\n",
              "      <td>0</td>\n",
              "    </tr>\n",
              "  </tbody>\n",
              "</table>\n",
              "<p>3751 rows × 1777 columns</p>\n",
              "</div>\n",
              "      <button class=\"colab-df-convert\" onclick=\"convertToInteractive('df-c7a575c4-1f39-4e26-939c-f8d0d4a65ea9')\"\n",
              "              title=\"Convert this dataframe to an interactive table.\"\n",
              "              style=\"display:none;\">\n",
              "        \n",
              "  <svg xmlns=\"http://www.w3.org/2000/svg\" height=\"24px\"viewBox=\"0 0 24 24\"\n",
              "       width=\"24px\">\n",
              "    <path d=\"M0 0h24v24H0V0z\" fill=\"none\"/>\n",
              "    <path d=\"M18.56 5.44l.94 2.06.94-2.06 2.06-.94-2.06-.94-.94-2.06-.94 2.06-2.06.94zm-11 1L8.5 8.5l.94-2.06 2.06-.94-2.06-.94L8.5 2.5l-.94 2.06-2.06.94zm10 10l.94 2.06.94-2.06 2.06-.94-2.06-.94-.94-2.06-.94 2.06-2.06.94z\"/><path d=\"M17.41 7.96l-1.37-1.37c-.4-.4-.92-.59-1.43-.59-.52 0-1.04.2-1.43.59L10.3 9.45l-7.72 7.72c-.78.78-.78 2.05 0 2.83L4 21.41c.39.39.9.59 1.41.59.51 0 1.02-.2 1.41-.59l7.78-7.78 2.81-2.81c.8-.78.8-2.07 0-2.86zM5.41 20L4 18.59l7.72-7.72 1.47 1.35L5.41 20z\"/>\n",
              "  </svg>\n",
              "      </button>\n",
              "      \n",
              "  <style>\n",
              "    .colab-df-container {\n",
              "      display:flex;\n",
              "      flex-wrap:wrap;\n",
              "      gap: 12px;\n",
              "    }\n",
              "\n",
              "    .colab-df-convert {\n",
              "      background-color: #E8F0FE;\n",
              "      border: none;\n",
              "      border-radius: 50%;\n",
              "      cursor: pointer;\n",
              "      display: none;\n",
              "      fill: #1967D2;\n",
              "      height: 32px;\n",
              "      padding: 0 0 0 0;\n",
              "      width: 32px;\n",
              "    }\n",
              "\n",
              "    .colab-df-convert:hover {\n",
              "      background-color: #E2EBFA;\n",
              "      box-shadow: 0px 1px 2px rgba(60, 64, 67, 0.3), 0px 1px 3px 1px rgba(60, 64, 67, 0.15);\n",
              "      fill: #174EA6;\n",
              "    }\n",
              "\n",
              "    [theme=dark] .colab-df-convert {\n",
              "      background-color: #3B4455;\n",
              "      fill: #D2E3FC;\n",
              "    }\n",
              "\n",
              "    [theme=dark] .colab-df-convert:hover {\n",
              "      background-color: #434B5C;\n",
              "      box-shadow: 0px 1px 3px 1px rgba(0, 0, 0, 0.15);\n",
              "      filter: drop-shadow(0px 1px 2px rgba(0, 0, 0, 0.3));\n",
              "      fill: #FFFFFF;\n",
              "    }\n",
              "  </style>\n",
              "\n",
              "      <script>\n",
              "        const buttonEl =\n",
              "          document.querySelector('#df-c7a575c4-1f39-4e26-939c-f8d0d4a65ea9 button.colab-df-convert');\n",
              "        buttonEl.style.display =\n",
              "          google.colab.kernel.accessAllowed ? 'block' : 'none';\n",
              "\n",
              "        async function convertToInteractive(key) {\n",
              "          const element = document.querySelector('#df-c7a575c4-1f39-4e26-939c-f8d0d4a65ea9');\n",
              "          const dataTable =\n",
              "            await google.colab.kernel.invokeFunction('convertToInteractive',\n",
              "                                                     [key], {});\n",
              "          if (!dataTable) return;\n",
              "\n",
              "          const docLinkHtml = 'Like what you see? Visit the ' +\n",
              "            '<a target=\"_blank\" href=https://colab.research.google.com/notebooks/data_table.ipynb>data table notebook</a>'\n",
              "            + ' to learn more about interactive tables.';\n",
              "          element.innerHTML = '';\n",
              "          dataTable['output_type'] = 'display_data';\n",
              "          await google.colab.output.renderOutput(dataTable, element);\n",
              "          const docLink = document.createElement('div');\n",
              "          docLink.innerHTML = docLinkHtml;\n",
              "          element.appendChild(docLink);\n",
              "        }\n",
              "      </script>\n",
              "    </div>\n",
              "  </div>\n",
              "  "
            ],
            "text/plain": [
              "      Activity        D1        D2    D3  ...  D1773  D1774  D1775  D1776\n",
              "0            1  0.000000  0.497009  0.10  ...      0      0      0      0\n",
              "1            1  0.366667  0.606291  0.05  ...      0      0      1      0\n",
              "2            1  0.033300  0.480124  0.00  ...      0      0      0      0\n",
              "3            1  0.000000  0.538825  0.00  ...      0      0      0      0\n",
              "4            0  0.100000  0.517794  0.00  ...      0      0      0      0\n",
              "...        ...       ...       ...   ...  ...    ...    ...    ...    ...\n",
              "3746         1  0.033300  0.506409  0.10  ...      0      0      0      0\n",
              "3747         1  0.133333  0.651023  0.15  ...      1      0      0      0\n",
              "3748         0  0.200000  0.520564  0.00  ...      0      0      0      0\n",
              "3749         1  0.100000  0.765646  0.00  ...      0      0      0      0\n",
              "3750         0  0.133333  0.533952  0.00  ...      0      0      0      0\n",
              "\n",
              "[3751 rows x 1777 columns]"
            ]
          },
          "metadata": {},
          "execution_count": 21
        }
      ]
    },
    {
      "cell_type": "code",
      "source": [
        "# Data preparation\n",
        "y = df['Activity']\n",
        "X = df.drop('Activity', axis = 1)\n",
        "w, b = initialize_with_zeros(X.shape[1])\n",
        "w.shape"
      ],
      "metadata": {
        "colab": {
          "base_uri": "https://localhost:8080/"
        },
        "id": "ZEMCB9dIuUdt",
        "outputId": "3c94d57b-074e-49e5-e4b8-bd3ddce229d0"
      },
      "execution_count": 22,
      "outputs": [
        {
          "output_type": "execute_result",
          "data": {
            "text/plain": [
              "(1776,)"
            ]
          },
          "metadata": {},
          "execution_count": 22
        }
      ]
    },
    {
      "cell_type": "code",
      "source": [
        "# testing propagation\n",
        "# propagate(w, b, X, y)"
      ],
      "metadata": {
        "colab": {
          "base_uri": "https://localhost:8080/"
        },
        "id": "ohjh7vdHM6tb",
        "outputId": "66c48867-2e22-4774-8398-d00dcc71edab"
      },
      "execution_count": 68,
      "outputs": [
        {
          "output_type": "stream",
          "name": "stderr",
          "text": [
            "/usr/local/lib/python3.7/dist-packages/ipykernel_launcher.py:21: RuntimeWarning: divide by zero encountered in log\n"
          ]
        },
        {
          "output_type": "execute_result",
          "data": {
            "text/plain": [
              "({'db': 0.25636969851245683,\n",
              "  'dw': array([0.02437511, 0.14615932, 0.01611434, ..., 0.00475172, 0.00578321,\n",
              "         0.00368508])},\n",
              " inf)"
            ]
          },
          "metadata": {},
          "execution_count": 68
        }
      ]
    },
    {
      "cell_type": "code",
      "source": [
        "# testing propagation\n",
        "# propagate_sgd(w, b, X, y)"
      ],
      "metadata": {
        "colab": {
          "base_uri": "https://localhost:8080/"
        },
        "id": "9bmdfOc1kJiU",
        "outputId": "72a8671e-202c-46e6-d71a-211873a4c638"
      },
      "execution_count": 75,
      "outputs": [
        {
          "output_type": "execute_result",
          "data": {
            "text/plain": [
              "({'db': 0.04697983013023882,\n",
              "  'dw': array([0.01773978, 0.02261133, 0.00732899, ..., 0.        , 0.06249584,\n",
              "         0.03125   ])},\n",
              " 2.5449686247835843)"
            ]
          },
          "metadata": {},
          "execution_count": 75
        }
      ]
    },
    {
      "cell_type": "code",
      "source": [
        "# test GD optimizerr\n",
        "# params, grads, costs, it_nums = optimize(w, b, X, y, num_iterations= 200, learning_rate = 0.05, print_cost = True)\n",
        "\n",
        "# print (\"w = \" + str(params[\"w\"]))\n",
        "# print (\"b = \" + str(params[\"b\"]))\n",
        "# print (\"dw = \" + str(grads[\"dw\"]))\n",
        "# print (\"db = \" + str(grads[\"db\"]))"
      ],
      "metadata": {
        "colab": {
          "base_uri": "https://localhost:8080/"
        },
        "id": "ZT3soETVz-tM",
        "outputId": "365a9825-f44a-419d-eb14-a0983af4ceb5"
      },
      "execution_count": 70,
      "outputs": [
        {
          "output_type": "stream",
          "name": "stderr",
          "text": [
            "/usr/local/lib/python3.7/dist-packages/ipykernel_launcher.py:21: RuntimeWarning: divide by zero encountered in log\n"
          ]
        },
        {
          "output_type": "stream",
          "name": "stdout",
          "text": [
            "Cost after iteration 0: inf\n",
            "Cost after iteration 100: inf\n",
            "w = [ 0.44886403 -0.10505727  0.62548434 ...  0.14250429 -0.78783218\n",
            " -1.33379159]\n",
            "b = -0.00504163260065963\n",
            "dw = [ 0.00082929 -0.0029577   0.00073498 ...  0.00124514  0.00079508\n",
            " -0.00106625]\n",
            "db = 0.00019832500558808017\n"
          ]
        }
      ]
    },
    {
      "cell_type": "code",
      "source": [
        "from sklearn.model_selection import train_test_split"
      ],
      "metadata": {
        "id": "tmxKhMMnP2Kd"
      },
      "execution_count": 25,
      "outputs": []
    },
    {
      "cell_type": "code",
      "source": [
        "# splitting dataset on train and test\n",
        "train_set_x, test_set_x, train_set_y, test_set_y = train_test_split(X, y, test_size = 0.25, random_state = 42)"
      ],
      "metadata": {
        "id": "tw8aHRoIP0K2"
      },
      "execution_count": 26,
      "outputs": []
    },
    {
      "cell_type": "markdown",
      "source": [
        "Learning GD models"
      ],
      "metadata": {
        "id": "LD1RkIwNqw5d"
      }
    },
    {
      "cell_type": "code",
      "source": [
        "d_005 = model(train_set_x, train_set_y, test_set_x, test_set_y, num_iterations = 1000, learning_rate = 0.005, print_cost = False)"
      ],
      "metadata": {
        "colab": {
          "base_uri": "https://localhost:8080/"
        },
        "id": "SODfrqWyP1zt",
        "outputId": "9894e0dc-09b9-4053-873a-b93ea6b33781"
      },
      "execution_count": 28,
      "outputs": [
        {
          "output_type": "stream",
          "name": "stderr",
          "text": [
            "/usr/local/lib/python3.7/dist-packages/ipykernel_launcher.py:21: RuntimeWarning: divide by zero encountered in log\n"
          ]
        },
        {
          "output_type": "stream",
          "name": "stdout",
          "text": [
            "train accuracy: 54.10593672236047 %\n",
            "test accuracy: 53.73134328358209 %\n"
          ]
        }
      ]
    },
    {
      "cell_type": "code",
      "source": [
        "d_01 = model(train_set_x, train_set_y, test_set_x, test_set_y, num_iterations = 1000, learning_rate = 0.01, print_cost = False)"
      ],
      "metadata": {
        "colab": {
          "base_uri": "https://localhost:8080/"
        },
        "id": "LfkTgvptXhgD",
        "outputId": "2e885590-1410-4c61-d0d7-67d206b5dd70"
      },
      "execution_count": 29,
      "outputs": [
        {
          "output_type": "stream",
          "name": "stderr",
          "text": [
            "/usr/local/lib/python3.7/dist-packages/ipykernel_launcher.py:21: RuntimeWarning: divide by zero encountered in log\n"
          ]
        },
        {
          "output_type": "stream",
          "name": "stdout",
          "text": [
            "train accuracy: 56.80767863490935 %\n",
            "test accuracy: 56.39658848614072 %\n"
          ]
        }
      ]
    },
    {
      "cell_type": "code",
      "source": [
        "d_05 = model(train_set_x, train_set_y, test_set_x, test_set_y, num_iterations = 1000, learning_rate = 0.05, print_cost = False)"
      ],
      "metadata": {
        "colab": {
          "base_uri": "https://localhost:8080/"
        },
        "id": "ELndwjHFI7g8",
        "outputId": "9ee90242-6efd-47f6-e615-c3fa1270fa0c"
      },
      "execution_count": 30,
      "outputs": [
        {
          "output_type": "stream",
          "name": "stderr",
          "text": [
            "/usr/local/lib/python3.7/dist-packages/ipykernel_launcher.py:21: RuntimeWarning: divide by zero encountered in log\n"
          ]
        },
        {
          "output_type": "stream",
          "name": "stdout",
          "text": [
            "train accuracy: 68.82332029861358 %\n",
            "test accuracy: 64.28571428571428 %\n"
          ]
        }
      ]
    },
    {
      "cell_type": "code",
      "source": [
        "d_1 = model(train_set_x, train_set_y, test_set_x, test_set_y, num_iterations = 1000, learning_rate = 0.1, print_cost = False)"
      ],
      "metadata": {
        "colab": {
          "base_uri": "https://localhost:8080/"
        },
        "id": "fP00e0vMI9bq",
        "outputId": "8128c10a-586f-4f30-bc3f-58b471324344"
      },
      "execution_count": 33,
      "outputs": [
        {
          "output_type": "stream",
          "name": "stderr",
          "text": [
            "/usr/local/lib/python3.7/dist-packages/ipykernel_launcher.py:21: RuntimeWarning: divide by zero encountered in log\n"
          ]
        },
        {
          "output_type": "stream",
          "name": "stdout",
          "text": [
            "train accuracy: 73.65801635264842 %\n",
            "test accuracy: 67.3773987206823 %\n"
          ]
        }
      ]
    },
    {
      "cell_type": "code",
      "source": [
        "d_2 = model(train_set_x, train_set_y, test_set_x, test_set_y, num_iterations = 1000, learning_rate = 0.2, print_cost = False)"
      ],
      "metadata": {
        "colab": {
          "base_uri": "https://localhost:8080/"
        },
        "id": "WkiK0XyHJBgZ",
        "outputId": "60133faf-7875-4a14-8582-d1488f901d86"
      },
      "execution_count": 34,
      "outputs": [
        {
          "output_type": "stream",
          "name": "stderr",
          "text": [
            "/usr/local/lib/python3.7/dist-packages/ipykernel_launcher.py:21: RuntimeWarning: divide by zero encountered in log\n"
          ]
        },
        {
          "output_type": "stream",
          "name": "stdout",
          "text": [
            "train accuracy: 76.85744756487736 %\n",
            "test accuracy: 70.8955223880597 %\n"
          ]
        }
      ]
    },
    {
      "cell_type": "code",
      "source": [
        "d_5 = model(train_set_x, train_set_y, test_set_x, test_set_y, num_iterations = 1000, learning_rate = 0.5, print_cost = False)"
      ],
      "metadata": {
        "colab": {
          "base_uri": "https://localhost:8080/"
        },
        "id": "rx9SJpZDLKrx",
        "outputId": "334b4876-2e29-4b5d-8af7-e1dfc9a8d23e"
      },
      "execution_count": 84,
      "outputs": [
        {
          "output_type": "stream",
          "name": "stderr",
          "text": [
            "/usr/local/lib/python3.7/dist-packages/ipykernel_launcher.py:21: RuntimeWarning: divide by zero encountered in log\n"
          ]
        },
        {
          "output_type": "stream",
          "name": "stdout",
          "text": [
            "train accuracy: 77.31958762886597 %\n",
            "test accuracy: 71.96162046908316 %\n"
          ]
        }
      ]
    },
    {
      "cell_type": "code",
      "source": [
        "plt.figure(figsize=(10,7))\n",
        "plt.title(\"Gradient Descent\")\n",
        "plt.plot(d_005[\"iteration numbers\"], d_005[\"costs\"], label = \"0.005\")\n",
        "plt.plot(d_01[\"iteration numbers\"], d_01[\"costs\"], label = \"0.01\", color='b', linewidth=7)\n",
        "plt.plot(d_05[\"iteration numbers\"], d_05[\"costs\"], label = \"0.05\")\n",
        "plt.plot(d_1[\"iteration numbers\"], d_1[\"costs\"], label = \"0.1\")\n",
        "plt.plot(d_2[\"iteration numbers\"], d_2[\"costs\"], label = \"0.2\")\n",
        "plt.plot(d_5[\"iteration numbers\"], d_5[\"costs\"], label = \"0.5\")\n",
        "plt.ylim(0, 2)\n",
        "plt.ylabel(\"Cost\")\n",
        "plt.xlabel(\"Iteration\")\n",
        "plt.legend()"
      ],
      "metadata": {
        "colab": {
          "base_uri": "https://localhost:8080/",
          "height": 476
        },
        "id": "CPUItRs2JlZA",
        "outputId": "bbd0a2f5-3565-4dcf-f01b-acf7b819c6b2"
      },
      "execution_count": 96,
      "outputs": [
        {
          "output_type": "execute_result",
          "data": {
            "text/plain": [
              "<matplotlib.legend.Legend at 0x7f336c871f90>"
            ]
          },
          "metadata": {},
          "execution_count": 96
        },
        {
          "output_type": "display_data",
          "data": {
            "image/png": "[encoded data removed]",
            "text/plain": [
              "<Figure size 720x504 with 1 Axes>"
            ]
          },
          "metadata": {
            "needs_background": "light"
          }
        }
      ]
    },
    {
      "cell_type": "markdown",
      "source": [
        "Learning SGD models"
      ],
      "metadata": {
        "id": "eUWR_pCXq2vv"
      }
    },
    {
      "cell_type": "code",
      "source": [
        "sd_005 = model(train_set_x, train_set_y, test_set_x, test_set_y, num_iterations = 1000, learning_rate = 0.005, print_cost = False, _propagate = propagate_sgd)"
      ],
      "metadata": {
        "colab": {
          "base_uri": "https://localhost:8080/"
        },
        "id": "381PoMSSp22r",
        "outputId": "a9b06729-b883-420a-f0e4-3343057f9f13"
      },
      "execution_count": 87,
      "outputs": [
        {
          "output_type": "stream",
          "name": "stdout",
          "text": [
            "train accuracy: 54.10593672236047 %\n",
            "test accuracy: 54.15778251599147 %\n"
          ]
        }
      ]
    },
    {
      "cell_type": "code",
      "source": [
        "sd_01 = model(train_set_x, train_set_y, test_set_x, test_set_y, num_iterations = 1000, learning_rate = 0.01, print_cost = False, _propagate = propagate_sgd)"
      ],
      "metadata": {
        "colab": {
          "base_uri": "https://localhost:8080/"
        },
        "id": "1QV9QLpAp5OT",
        "outputId": "8e0dbc2c-7156-49fa-889b-4425e2280448"
      },
      "execution_count": 88,
      "outputs": [
        {
          "output_type": "stream",
          "name": "stdout",
          "text": [
            "train accuracy: 54.92356914326342 %\n",
            "test accuracy: 56.18336886993603 %\n"
          ]
        }
      ]
    },
    {
      "cell_type": "code",
      "source": [
        "sd_05 = model(train_set_x, train_set_y, test_set_x, test_set_y, num_iterations = 1000, learning_rate = 0.05, print_cost = False, _propagate = propagate_sgd)"
      ],
      "metadata": {
        "colab": {
          "base_uri": "https://localhost:8080/"
        },
        "id": "6rTIUorwp4rS",
        "outputId": "ff991eff-c6db-4dc0-eedf-b868406f5d92"
      },
      "execution_count": 89,
      "outputs": [
        {
          "output_type": "stream",
          "name": "stdout",
          "text": [
            "train accuracy: 56.77212939921792 %\n",
            "test accuracy: 58.63539445628998 %\n"
          ]
        }
      ]
    },
    {
      "cell_type": "code",
      "source": [
        "sd_1 = model(train_set_x, train_set_y, test_set_x, test_set_y, num_iterations = 1000, learning_rate = 0.1, print_cost = False, _propagate = propagate_sgd)"
      ],
      "metadata": {
        "colab": {
          "base_uri": "https://localhost:8080/"
        },
        "id": "5yc93Ln8p4hn",
        "outputId": "7f991c41-821e-4310-afdf-5fdf5bbff1c9"
      },
      "execution_count": 90,
      "outputs": [
        {
          "output_type": "stream",
          "name": "stdout",
          "text": [
            "train accuracy: 57.41201564166371 %\n",
            "test accuracy: 59.3816631130064 %\n"
          ]
        }
      ]
    },
    {
      "cell_type": "code",
      "source": [
        "sd_2 = model(train_set_x, train_set_y, test_set_x, test_set_y, num_iterations = 1000, learning_rate = 0.2, print_cost = False, _propagate = propagate_sgd)"
      ],
      "metadata": {
        "colab": {
          "base_uri": "https://localhost:8080/"
        },
        "id": "w1ml3CTyp4PR",
        "outputId": "8c3d024d-e25e-4b47-cf3e-75d3c80692d8"
      },
      "execution_count": 91,
      "outputs": [
        {
          "output_type": "stream",
          "name": "stdout",
          "text": [
            "train accuracy: 57.58976182012086 %\n",
            "test accuracy: 58.95522388059701 %\n"
          ]
        }
      ]
    },
    {
      "cell_type": "code",
      "source": [
        "sd_5 = model(train_set_x, train_set_y, test_set_x, test_set_y, num_iterations = 1000, learning_rate = 0.5, print_cost = False, _propagate = propagate_sgd)"
      ],
      "metadata": {
        "colab": {
          "base_uri": "https://localhost:8080/"
        },
        "id": "nMU9TCerowc7",
        "outputId": "c2890adc-2971-40f5-86dd-ab0d54ec6476"
      },
      "execution_count": 92,
      "outputs": [
        {
          "output_type": "stream",
          "name": "stdout",
          "text": [
            "train accuracy: 57.90970494134376 %\n",
            "test accuracy: 60.02132196162047 %\n"
          ]
        }
      ]
    },
    {
      "cell_type": "code",
      "source": [
        "sd_5_5000 = model(train_set_x, train_set_y, test_set_x, test_set_y, num_iterations = 5000, learning_rate = 0.5, print_cost = True, _propagate = propagate_sgd)"
      ],
      "metadata": {
        "colab": {
          "base_uri": "https://localhost:8080/"
        },
        "id": "1g8AYhBK6i5u",
        "outputId": "85dbada3-4f78-453a-ce7b-c920de7304d3"
      },
      "execution_count": 171,
      "outputs": [
        {
          "output_type": "stream",
          "name": "stdout",
          "text": [
            "Cost after iteration 0: 3.177832\n",
            "Cost after iteration 100: 0.020321\n",
            "Cost after iteration 200: 0.010437\n",
            "Cost after iteration 300: 0.007087\n",
            "Cost after iteration 400: 0.005383\n",
            "Cost after iteration 500: 0.004347\n",
            "Cost after iteration 600: 0.003649\n",
            "Cost after iteration 700: 0.003146\n",
            "Cost after iteration 800: 0.002766\n",
            "Cost after iteration 900: 0.002469\n",
            "Cost after iteration 1000: 0.002230\n",
            "Cost after iteration 1100: 0.002034\n",
            "Cost after iteration 1200: 0.001869\n",
            "Cost after iteration 1300: 0.001730\n",
            "Cost after iteration 1400: 0.001609\n",
            "Cost after iteration 1500: 0.001505\n",
            "Cost after iteration 1600: 0.001414\n",
            "Cost after iteration 1700: 0.001333\n",
            "Cost after iteration 1800: 0.001260\n",
            "Cost after iteration 1900: 0.001196\n",
            "Cost after iteration 2000: 0.001137\n",
            "Cost after iteration 2100: 0.001085\n",
            "Cost after iteration 2200: 0.001036\n",
            "Cost after iteration 2300: 0.000992\n",
            "Cost after iteration 2400: 0.000952\n",
            "Cost after iteration 2500: 0.000915\n",
            "Cost after iteration 2600: 0.000881\n",
            "Cost after iteration 2700: 0.000849\n",
            "Cost after iteration 2800: 0.000819\n",
            "Cost after iteration 2900: 0.000791\n",
            "Cost after iteration 3000: 0.000766\n",
            "Cost after iteration 3100: 0.000741\n",
            "Cost after iteration 3200: 0.000719\n",
            "Cost after iteration 3300: 0.000697\n",
            "Cost after iteration 3400: 0.000677\n",
            "Cost after iteration 3500: 0.000658\n",
            "Cost after iteration 3600: 0.000641\n",
            "Cost after iteration 3700: 0.000624\n",
            "Cost after iteration 3800: 0.000608\n",
            "Cost after iteration 3900: 0.000592\n",
            "Cost after iteration 4000: 0.000578\n",
            "Cost after iteration 4100: 0.000564\n",
            "Cost after iteration 4200: 0.000551\n",
            "Cost after iteration 4300: 0.000538\n",
            "Cost after iteration 4400: 0.000526\n",
            "Cost after iteration 4500: 0.000515\n",
            "Cost after iteration 4600: 0.000504\n",
            "Cost after iteration 4700: 0.000493\n",
            "Cost after iteration 4800: 0.000483\n",
            "Cost after iteration 4900: 0.000474\n",
            "train accuracy: 58.26519729825809 %\n",
            "test accuracy: 61.08742004264393 %\n"
          ]
        }
      ]
    },
    {
      "cell_type": "markdown",
      "source": [
        "For sgd iteration is faster, but less precise -> more iterations required. This model is still uderfitted although there was 5 times more iterations than for regular GD"
      ],
      "metadata": {
        "id": "aytPwEys7puu"
      }
    },
    {
      "cell_type": "code",
      "source": [
        ""
      ],
      "metadata": {
        "id": "8nrLK5tb7o9W"
      },
      "execution_count": null,
      "outputs": []
    },
    {
      "cell_type": "code",
      "source": [
        "plt.figure(figsize=(10,7))\n",
        "plt.title(\"Stochastic Gradient Descent\")\n",
        "plt.plot(sd_005[\"iteration numbers\"], sd_005[\"costs\"], label = \"0.005\")\n",
        "plt.plot(sd_01[\"iteration numbers\"], sd_01[\"costs\"], label = \"0.01\")\n",
        "plt.plot(sd_05[\"iteration numbers\"], sd_05[\"costs\"], label = \"0.05\")\n",
        "plt.plot(sd_1[\"iteration numbers\"], sd_1[\"costs\"], label = \"0.1\")\n",
        "plt.plot(sd_2[\"iteration numbers\"], sd_2[\"costs\"], label = \"0.2\")\n",
        "plt.plot(sd_5[\"iteration numbers\"], sd_5[\"costs\"], label = \"0.5\")\n",
        "plt.ylim(0, 3.3)\n",
        "plt.ylabel(\"Cost\")\n",
        "plt.xlabel(\"Iteration\")\n",
        "plt.legend()"
      ],
      "metadata": {
        "colab": {
          "base_uri": "https://localhost:8080/",
          "height": 476
        },
        "id": "GHc9IWn4qYPL",
        "outputId": "68e76d9d-0d2a-46bd-8905-1637f4ffc1b8"
      },
      "execution_count": 99,
      "outputs": [
        {
          "output_type": "execute_result",
          "data": {
            "text/plain": [
              "<matplotlib.legend.Legend at 0x7f336c6c0710>"
            ]
          },
          "metadata": {},
          "execution_count": 99
        },
        {
          "output_type": "display_data",
          "data": {
            "image/png": "[encoded data removed]",
            "text/plain": [
              "<Figure size 720x504 with 1 Axes>"
            ]
          },
          "metadata": {
            "needs_background": "light"
          }
        }
      ]
    },
    {
      "cell_type": "markdown",
      "source": [
        "### With selected learning rate range cost decreases faster with LS ingrease "
      ],
      "metadata": {
        "id": "DxDl1mylrtVN"
      }
    },
    {
      "cell_type": "markdown",
      "source": [
        "# ADAM"
      ],
      "metadata": {
        "id": "3E5_gDovvQmz"
      }
    },
    {
      "cell_type": "code",
      "source": [
        "# TODO debug ADAM - difference between models in optimizers only\n",
        "# WHY w = [nan...nan]????\n",
        "def optimize_adam(w, b, X, Y, num_iterations, learning_rate, print_cost = False):\n",
        "    def step_vs(t, v_prev, vb_prev, s_prev, sb_prev, w_prev, b_prev):\n",
        "        grads, cost = propagate(w_prev, b_prev, X, Y)\n",
        "        dw = grads[\"dw\"]\n",
        "        db = grads[\"db\"]\n",
        "\n",
        "        b1 = 0.9\n",
        "        b2 = 0.999\n",
        "        e = 10e-8\n",
        "        vt = b1 * v_prev + (1-b1) * dw\n",
        "        st = b2 * s_prev + (1-b2) * dw**2\n",
        "        vtb = b1 * vb_prev + (1-b1) * db\n",
        "        stb = b2 * sb_prev + (1-b2) * db**2\n",
        "        stcorr = st / (b2 ** t)\n",
        "        stcorrb = stb / (b2 ** t)\n",
        "        dwa = learning_rate * vt / (stcorr**0.5 + e)\n",
        "        dba = learning_rate * vtb / (stcorrb**.5 + e)\n",
        "\n",
        "        return vt, vtb, st, stb, dwa, dba, cost\n",
        "    \n",
        "    vt, vtb, st, stb, dwa, dba, cost = step_vs(0, 0, 0, 0, 0, w, b)\n",
        "    costs = [cost]\n",
        "    it_nums = [0]\n",
        "    # print(\"0DWA = \"+ str(dwa))\n",
        "    w -= dwa\n",
        "    b -= dba\n",
        "    for i in range(1, num_iterations):\n",
        "        vt, vtb, st, stb, dwa, dba, cost = step_vs(i, vt, vtb, st, stb, w, b)\n",
        "        # print(\"DWA = \"+ str(dwa))\n",
        "        # update rule\n",
        "        w -=dwa\n",
        "        b -=dba\n",
        "\n",
        "\n",
        "        if i % 100 == 0:\n",
        "            costs.append(cost)\n",
        "            it_nums.append(i)\n",
        "        \n",
        "        # Print the cost every 100 training iterations\n",
        "        if print_cost and i % 100 == 0:\n",
        "            print (\"Cost after iteration %i: %f\" %(i, cost))\n",
        "    \n",
        "    params = {\"w\": w,\n",
        "              \"b\": b}\n",
        "    \n",
        "    grads = {\"dw\": dwa,\n",
        "             \"db\": dba}\n",
        "    \n",
        "    return params, grads, costs, it_nums"
      ],
      "metadata": {
        "id": "mo2XF7vs_k5l"
      },
      "execution_count": 185,
      "outputs": []
    },
    {
      "cell_type": "code",
      "source": [
        "def model_adam(X_train, Y_train, X_test, Y_test, num_iterations = 2000, learning_rate = 0.5, print_cost = False):\n",
        "    # initialize parameters with zeros \n",
        "    w, b = initialize_with_zeros(X_train.shape[1])\n",
        "\n",
        "    # Gradient descent\n",
        "    parameters, grads, costs, it_nums = optimize_adam(w, b, X_train, Y_train, num_iterations, learning_rate, print_cost)\n",
        "    \n",
        "    # Retrieve parameters w and b from dictionary \"parameters\"\n",
        "    w = parameters[\"w\"]\n",
        "    b = parameters[\"b\"]\n",
        "    \n",
        "    # Predict test/train set examples\n",
        "    Y_prediction_test = predict(w, b, X_test)\n",
        "    Y_prediction_train = predict(w, b, X_train)\n",
        "\n",
        "    # Print train/test Errors\n",
        "    print(\"train accuracy: {} %\".format(100 - np.mean(np.abs(Y_prediction_train - Y_train.T)) * 100))\n",
        "    print(\"test accuracy: {} %\".format(100 - np.mean(np.abs(Y_prediction_test - Y_test.T)) * 100))\n",
        "\n",
        "    d = {\"costs\": costs,\n",
        "         \"iteration numbers\": it_nums,\n",
        "         \"Y_prediction_test\": Y_prediction_test, \n",
        "         \"Y_prediction_train\" : Y_prediction_train, \n",
        "         \"w\" : w, \n",
        "         \"b\" : b,\n",
        "         \"learning_rate\" : learning_rate,\n",
        "         \"num_iterations\": num_iterations}\n",
        "    \n",
        "    return d"
      ],
      "metadata": {
        "id": "EZcBzpMgr5jP"
      },
      "execution_count": 176,
      "outputs": []
    },
    {
      "cell_type": "code",
      "source": [
        "# testing adam optimizer\n",
        "# optimize_adam(w, b, X, y, num_iterations=300, learning_rate=0.4, print_cost=True)"
      ],
      "metadata": {
        "id": "5Yc0JueE3XjT"
      },
      "execution_count": null,
      "outputs": []
    },
    {
      "cell_type": "markdown",
      "source": [
        "### MODEL learning and plots:"
      ],
      "metadata": {
        "id": "mFgNuKDX6SHm"
      }
    },
    {
      "cell_type": "code",
      "source": [
        "ad_005 = model_adam(train_set_x, train_set_y, test_set_x, test_set_y, num_iterations = 1000, learning_rate = 0.005, print_cost = True)"
      ],
      "metadata": {
        "colab": {
          "base_uri": "https://localhost:8080/"
        },
        "id": "1CJmyLuUvFqg",
        "outputId": "43fb7f10-eb0a-49e7-f492-69d1b5e52e24"
      },
      "execution_count": 186,
      "outputs": [
        {
          "output_type": "stream",
          "name": "stderr",
          "text": [
            "/usr/local/lib/python3.7/dist-packages/ipykernel_launcher.py:21: RuntimeWarning: divide by zero encountered in log\n"
          ]
        },
        {
          "output_type": "stream",
          "name": "stdout",
          "text": [
            "Cost after iteration 100: 0.699521\n",
            "Cost after iteration 200: 0.466505\n",
            "Cost after iteration 300: 0.382817\n",
            "Cost after iteration 400: 0.339781\n",
            "Cost after iteration 500: 0.312405\n",
            "Cost after iteration 600: 0.293499\n",
            "Cost after iteration 700: 0.279668\n",
            "Cost after iteration 800: 0.268996\n",
            "Cost after iteration 900: 0.260421\n",
            "train accuracy: 89.975115535016 %\n",
            "test accuracy: 73.13432835820896 %\n"
          ]
        }
      ]
    },
    {
      "cell_type": "code",
      "source": [
        "ad_01 = model_adam(train_set_x, train_set_y, test_set_x, test_set_y, num_iterations = 1000, learning_rate = 0.01, print_cost = False)"
      ],
      "metadata": {
        "colab": {
          "base_uri": "https://localhost:8080/"
        },
        "id": "yRHnfHh7wMjE",
        "outputId": "12561362-3088-4d1c-e2f0-7bcd73ac0188"
      },
      "execution_count": 187,
      "outputs": [
        {
          "output_type": "stream",
          "name": "stderr",
          "text": [
            "/usr/local/lib/python3.7/dist-packages/ipykernel_launcher.py:21: RuntimeWarning: divide by zero encountered in log\n"
          ]
        },
        {
          "output_type": "stream",
          "name": "stdout",
          "text": [
            "train accuracy: 92.35691432634198 %\n",
            "test accuracy: 72.60127931769722 %\n"
          ]
        }
      ]
    },
    {
      "cell_type": "code",
      "source": [
        "ad_05 = model_adam(train_set_x, train_set_y, test_set_x, test_set_y, num_iterations = 1000, learning_rate = 0.05, print_cost = False)"
      ],
      "metadata": {
        "colab": {
          "base_uri": "https://localhost:8080/"
        },
        "id": "VGiSVEfTwPtB",
        "outputId": "4bdbed8e-1002-4ca3-c1d6-9a2dc68d1630"
      },
      "execution_count": 188,
      "outputs": [
        {
          "output_type": "stream",
          "name": "stderr",
          "text": [
            "/usr/local/lib/python3.7/dist-packages/ipykernel_launcher.py:21: RuntimeWarning: divide by zero encountered in log\n"
          ]
        },
        {
          "output_type": "stream",
          "name": "stdout",
          "text": [
            "train accuracy: 94.06327763953075 %\n",
            "test accuracy: 71.42857142857143 %\n"
          ]
        }
      ]
    },
    {
      "cell_type": "code",
      "source": [
        "ad_1 = model_adam(train_set_x, train_set_y, test_set_x, test_set_y, num_iterations = 1000, learning_rate = 0.1, print_cost = False)"
      ],
      "metadata": {
        "colab": {
          "base_uri": "https://localhost:8080/"
        },
        "id": "mOk1zYxvwQOG",
        "outputId": "bc67955c-93bc-4dbb-9418-24563610fdfa"
      },
      "execution_count": 189,
      "outputs": [
        {
          "output_type": "stream",
          "name": "stderr",
          "text": [
            "/usr/local/lib/python3.7/dist-packages/ipykernel_launcher.py:21: RuntimeWarning: divide by zero encountered in log\n"
          ]
        },
        {
          "output_type": "stream",
          "name": "stdout",
          "text": [
            "train accuracy: 94.84536082474227 %\n",
            "test accuracy: 70.57569296375267 %\n"
          ]
        }
      ]
    },
    {
      "cell_type": "code",
      "source": [
        "ad_2 = model_adam(train_set_x, train_set_y, test_set_x, test_set_y, num_iterations = 1000, learning_rate = 0.2, print_cost = False)"
      ],
      "metadata": {
        "colab": {
          "base_uri": "https://localhost:8080/"
        },
        "id": "NAizx9OawQl3",
        "outputId": "c57deabf-a0b0-4318-a4b1-8637e29d619c"
      },
      "execution_count": 190,
      "outputs": [
        {
          "output_type": "stream",
          "name": "stderr",
          "text": [
            "/usr/local/lib/python3.7/dist-packages/ipykernel_launcher.py:21: RuntimeWarning: divide by zero encountered in log\n"
          ]
        },
        {
          "output_type": "stream",
          "name": "stdout",
          "text": [
            "train accuracy: 95.44969783149662 %\n",
            "test accuracy: 70.1492537313433 %\n"
          ]
        }
      ]
    },
    {
      "cell_type": "code",
      "source": [
        "ad_5 = model_adam(train_set_x, train_set_y, test_set_x, test_set_y, num_iterations = 1000, learning_rate = 0.5, print_cost = True)"
      ],
      "metadata": {
        "colab": {
          "base_uri": "https://localhost:8080/"
        },
        "id": "NeCQ6tmXwRI_",
        "outputId": "e60077ad-f6d8-43c3-8d0a-4b562cd40836"
      },
      "execution_count": 191,
      "outputs": [
        {
          "output_type": "stream",
          "name": "stderr",
          "text": [
            "/usr/local/lib/python3.7/dist-packages/ipykernel_launcher.py:21: RuntimeWarning: divide by zero encountered in log\n",
            "/usr/local/lib/python3.7/dist-packages/ipykernel_launcher.py:11: RuntimeWarning: overflow encountered in exp\n",
            "  # This is added back by InteractiveShellApp.init_path()\n"
          ]
        },
        {
          "output_type": "stream",
          "name": "stdout",
          "text": [
            "Cost after iteration 100: inf\n",
            "Cost after iteration 200: 0.287563\n",
            "Cost after iteration 300: 0.157536\n",
            "Cost after iteration 400: 0.136506\n",
            "Cost after iteration 500: 0.120708\n",
            "Cost after iteration 600: 0.113395\n",
            "Cost after iteration 700: 0.108013\n",
            "Cost after iteration 800: 0.103777\n",
            "Cost after iteration 900: 0.100290\n",
            "train accuracy: 96.55172413793103 %\n",
            "test accuracy: 69.82942430703625 %\n"
          ]
        }
      ]
    },
    {
      "cell_type": "code",
      "source": [
        "plt.figure(figsize=(10,7))\n",
        "plt.title(\"ADAM GD\")\n",
        "plt.plot(ad_005[\"iteration numbers\"], ad_005[\"costs\"], label = \"0.005\")\n",
        "plt.plot(ad_01[\"iteration numbers\"], ad_01[\"costs\"], label = \"0.01\")\n",
        "plt.plot(ad_05[\"iteration numbers\"], ad_05[\"costs\"], label = \"0.05\")\n",
        "plt.plot(ad_1[\"iteration numbers\"], ad_1[\"costs\"], label = \"0.1\")\n",
        "plt.plot(ad_2[\"iteration numbers\"], ad_2[\"costs\"], label = \"0.2\")\n",
        "plt.plot(ad_5[\"iteration numbers\"], ad_5[\"costs\"], label = \"0.5\")\n",
        "plt.ylim(0, 0.71)\n",
        "plt.ylabel(\"Cost\")\n",
        "plt.xlabel(\"Iteration\")\n",
        "plt.legend()"
      ],
      "metadata": {
        "colab": {
          "base_uri": "https://localhost:8080/",
          "height": 476
        },
        "id": "V755relXwh2o",
        "outputId": "fc21dd49-cbda-4e44-d74a-9dd288acad56"
      },
      "execution_count": 196,
      "outputs": [
        {
          "output_type": "execute_result",
          "data": {
            "text/plain": [
              "<matplotlib.legend.Legend at 0x7f336c1ca6d0>"
            ]
          },
          "metadata": {},
          "execution_count": 196
        },
        {
          "output_type": "display_data",
          "data": {
            "image/png": "[encoded data removed]",
            "text/plain": [
              "<Figure size 720x504 with 1 Axes>"
            ]
          },
          "metadata": {
            "needs_background": "light"
          }
        }
      ]
    },
    {
      "cell_type": "markdown",
      "source": [
        "As we can see, model with ADAM optimizer is fitting faster, but it tends to overfit with chosen learning rate range. Accuracy for α = 0.005 is comparable with result for GD with α = 0.5"
      ],
      "metadata": {
        "id": "3BbPbaMVFqiS"
      }
    },
    {
      "cell_type": "markdown",
      "source": [
        "It is propably possible to improve result using less value of α, let's check:"
      ],
      "metadata": {
        "id": "Z6DQk-OWHDCa"
      }
    },
    {
      "cell_type": "code",
      "source": [
        "ad_0001 = model_adam(train_set_x, train_set_y, test_set_x, test_set_y, num_iterations = 1000, learning_rate = 0.001, print_cost = True)"
      ],
      "metadata": {
        "colab": {
          "base_uri": "https://localhost:8080/"
        },
        "id": "ONDX5vIQG_AC",
        "outputId": "5e6fee6c-0857-4d41-b4a5-ce4cbf8fb42a"
      },
      "execution_count": 200,
      "outputs": [
        {
          "output_type": "stream",
          "name": "stderr",
          "text": [
            "/usr/local/lib/python3.7/dist-packages/ipykernel_launcher.py:21: RuntimeWarning: divide by zero encountered in log\n"
          ]
        },
        {
          "output_type": "stream",
          "name": "stdout",
          "text": [
            "Cost after iteration 100: 1.776412\n",
            "Cost after iteration 200: 1.340056\n",
            "Cost after iteration 300: 1.108710\n",
            "Cost after iteration 400: 0.956864\n",
            "Cost after iteration 500: 0.849410\n",
            "Cost after iteration 600: 0.768962\n",
            "Cost after iteration 700: 0.707264\n",
            "Cost after iteration 800: 0.658423\n",
            "Cost after iteration 900: 0.618387\n",
            "train accuracy: 77.53288304301458 %\n",
            "test accuracy: 69.18976545842217 %\n"
          ]
        }
      ]
    },
    {
      "cell_type": "markdown",
      "source": [
        "With fixed number of iterations equal to 1000 - NOT."
      ],
      "metadata": {
        "id": "Bgi0jdJCHZP6"
      }
    },
    {
      "cell_type": "code",
      "source": [
        "# learn with 10000 iterations\n",
        "ad_0001 = model_adam(train_set_x, train_set_y, test_set_x, test_set_y, num_iterations = 10000, learning_rate = 0.001, print_cost = True)"
      ],
      "metadata": {
        "colab": {
          "base_uri": "https://localhost:8080/"
        },
        "id": "VSIV4BXoHfQz",
        "outputId": "4e17f20c-d4d3-4d03-f2f0-cc1315b573cd"
      },
      "execution_count": 199,
      "outputs": [
        {
          "output_type": "stream",
          "name": "stderr",
          "text": [
            "/usr/local/lib/python3.7/dist-packages/ipykernel_launcher.py:21: RuntimeWarning: divide by zero encountered in log\n"
          ]
        },
        {
          "output_type": "stream",
          "name": "stdout",
          "text": [
            "Cost after iteration 100: 1.776412\n",
            "Cost after iteration 200: 1.340056\n",
            "Cost after iteration 300: 1.108710\n",
            "Cost after iteration 400: 0.956864\n",
            "Cost after iteration 500: 0.849410\n",
            "Cost after iteration 600: 0.768962\n",
            "Cost after iteration 700: 0.707264\n",
            "Cost after iteration 800: 0.658423\n",
            "Cost after iteration 900: 0.618387\n",
            "Cost after iteration 1000: 0.584880\n",
            "Cost after iteration 1100: 0.556476\n",
            "Cost after iteration 1200: 0.532174\n",
            "Cost after iteration 1300: 0.511207\n",
            "Cost after iteration 1400: 0.492965\n",
            "Cost after iteration 1500: 0.476962\n",
            "Cost after iteration 1600: 0.462817\n",
            "Cost after iteration 1700: 0.450229\n",
            "Cost after iteration 1800: 0.438958\n",
            "Cost after iteration 1900: 0.428809\n",
            "Cost after iteration 2000: 0.419623\n",
            "Cost after iteration 2100: 0.411273\n",
            "Cost after iteration 2200: 0.403649\n",
            "Cost after iteration 2300: 0.396665\n",
            "Cost after iteration 2400: 0.390243\n",
            "Cost after iteration 2500: 0.384320\n",
            "Cost after iteration 2600: 0.378842\n",
            "Cost after iteration 2700: 0.373761\n",
            "Cost after iteration 2800: 0.369036\n",
            "Cost after iteration 2900: 0.364633\n",
            "Cost after iteration 3000: 0.360521\n",
            "Cost after iteration 3100: 0.356672\n",
            "Cost after iteration 3200: 0.353065\n",
            "Cost after iteration 3300: 0.349679\n",
            "Cost after iteration 3400: 0.346496\n",
            "Cost after iteration 3500: 0.343499\n",
            "Cost after iteration 3600: 0.340674\n",
            "Cost after iteration 3700: 0.338009\n",
            "Cost after iteration 3800: 0.335492\n",
            "Cost after iteration 3900: 0.333113\n",
            "Cost after iteration 4000: 0.330862\n",
            "Cost after iteration 4100: 0.328730\n",
            "Cost after iteration 4200: 0.326709\n",
            "Cost after iteration 4300: 0.324794\n",
            "Cost after iteration 4400: 0.322976\n",
            "Cost after iteration 4500: 0.321250\n",
            "Cost after iteration 4600: 0.319611\n",
            "Cost after iteration 4700: 0.318053\n",
            "Cost after iteration 4800: 0.316571\n",
            "Cost after iteration 4900: 0.315162\n",
            "Cost after iteration 5000: 0.313822\n",
            "Cost after iteration 5100: 0.312546\n",
            "Cost after iteration 5200: 0.311331\n",
            "Cost after iteration 5300: 0.310174\n",
            "Cost after iteration 5400: 0.309072\n",
            "Cost after iteration 5500: 0.308022\n",
            "Cost after iteration 5600: 0.307022\n",
            "Cost after iteration 5700: 0.306069\n",
            "Cost after iteration 5800: 0.305160\n",
            "Cost after iteration 5900: 0.304294\n",
            "Cost after iteration 6000: 0.303469\n",
            "Cost after iteration 6100: 0.302681\n",
            "Cost after iteration 6200: 0.301931\n",
            "Cost after iteration 6300: 0.301215\n",
            "Cost after iteration 6400: 0.300533\n",
            "Cost after iteration 6500: 0.299883\n",
            "Cost after iteration 6600: 0.299262\n",
            "Cost after iteration 6700: 0.298671\n",
            "Cost after iteration 6800: 0.298107\n",
            "Cost after iteration 6900: 0.297569\n",
            "Cost after iteration 7000: 0.297057\n",
            "Cost after iteration 7100: 0.296568\n",
            "Cost after iteration 7200: 0.296102\n",
            "Cost after iteration 7300: 0.295658\n",
            "Cost after iteration 7400: 0.295234\n",
            "Cost after iteration 7500: 0.294831\n",
            "Cost after iteration 7600: 0.294446\n",
            "Cost after iteration 7700: 0.294079\n",
            "Cost after iteration 7800: 0.293730\n",
            "Cost after iteration 7900: 0.293397\n",
            "Cost after iteration 8000: 0.293079\n",
            "Cost after iteration 8100: 0.292777\n",
            "Cost after iteration 8200: 0.292489\n",
            "Cost after iteration 8300: 0.292214\n",
            "Cost after iteration 8400: 0.291953\n",
            "Cost after iteration 8500: 0.291704\n",
            "Cost after iteration 8600: 0.291466\n",
            "Cost after iteration 8700: 0.291240\n",
            "Cost after iteration 8800: 0.291025\n",
            "Cost after iteration 8900: 0.290820\n",
            "Cost after iteration 9000: 0.290625\n",
            "Cost after iteration 9100: 0.290439\n",
            "Cost after iteration 9200: 0.290262\n",
            "Cost after iteration 9300: 0.290093\n",
            "Cost after iteration 9400: 0.289933\n",
            "Cost after iteration 9500: 0.289780\n",
            "Cost after iteration 9600: 0.289635\n",
            "Cost after iteration 9700: 0.289496\n",
            "Cost after iteration 9800: 0.289365\n",
            "Cost after iteration 9900: 0.289239\n",
            "train accuracy: 87.55776750799858 %\n",
            "test accuracy: 73.77398720682302 %\n"
          ]
        }
      ]
    },
    {
      "cell_type": "markdown",
      "source": [
        "Overfitting is still observable, but test accuracy is better."
      ],
      "metadata": {
        "id": "YXwKhXdoJlbs"
      }
    }
  ]
}