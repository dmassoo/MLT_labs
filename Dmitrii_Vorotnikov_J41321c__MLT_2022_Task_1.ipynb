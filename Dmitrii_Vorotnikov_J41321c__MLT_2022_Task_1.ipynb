{
  "nbformat": 4,
  "nbformat_minor": 0,
  "metadata": {
    "colab": {
      "name": "Dmitrii_Vorotnikov_J41321c#_MLT_2022_Task_1.ipynb",
      "provenance": [],
      "collapsed_sections": [],
      "authorship_tag": "ABX9TyOAUTBqmR10VZmephUDHObk",
      "include_colab_link": true
    },
    "kernelspec": {
      "name": "python3",
      "display_name": "Python 3"
    },
    "language_info": {
      "name": "python"
    }
  },
  "cells": [
    {
      "cell_type": "markdown",
      "metadata": {
        "id": "view-in-github",
        "colab_type": "text"
      },
      "source": [
        "<a href=\"https://colab.research.google.com/github/dmassoo/MLT_labs/blob/main/Dmitrii_Vorotnikov_J41321c__MLT_2022_Task_1.ipynb\" target=\"_parent\"><img src=\"https://colab.research.google.com/assets/colab-badge.svg\" alt=\"Open In Colab\"/></a>"
      ]
    },
    {
      "cell_type": "code",
      "execution_count": 175,
      "metadata": {
        "id": "XukmbRvR967M"
      },
      "outputs": [],
      "source": [
        "# import the libraries\n",
        "import matplotlib.pyplot as plt\n",
        "import seaborn as sns\n",
        "import pandas as pd\n",
        "import numpy as np\n",
        "from sklearn.model_selection import train_test_split\n",
        "from sklearn.metrics import accuracy_score\n",
        "from sklearn.linear_model import LogisticRegression\n",
        "from sklearn import metrics as m\n",
        "from sklearn.metrics import roc_auc_score, roc_curve\n",
        "from sklearn.preprocessing import StandardScaler\n",
        "from sklearn.metrics import precision_recall_curve"
      ]
    },
    {
      "cell_type": "code",
      "source": [
        "# load data\n",
        "from google.colab import drive\n",
        "drive.mount('/content/drive/')\n"
      ],
      "metadata": {
        "colab": {
          "base_uri": "https://localhost:8080/"
        },
        "id": "LpoiOAptL_fE",
        "outputId": "855226e0-29e9-4103-c221-ded9f0010f4c"
      },
      "execution_count": 176,
      "outputs": [
        {
          "output_type": "stream",
          "name": "stdout",
          "text": [
            "Drive already mounted at /content/drive/; to attempt to forcibly remount, call drive.mount(\"/content/drive/\", force_remount=True).\n"
          ]
        }
      ]
    },
    {
      "cell_type": "code",
      "source": [
        "df = pd.read_csv(\"/content/drive/MyDrive/MLT/bioresponse.csv\")\n",
        "df"
      ],
      "metadata": {
        "colab": {
          "base_uri": "https://localhost:8080/",
          "height": 487
        },
        "id": "rqShhxJYMMgW",
        "outputId": "f34a5475-298c-41b4-89ba-1ebd6de5260c"
      },
      "execution_count": 177,
      "outputs": [
        {
          "output_type": "execute_result",
          "data": {
            "text/html": [
              "\n",
              "  <div id=\"df-29d45c69-33ac-4e0a-826a-f409b623a28a\">\n",
              "    <div class=\"colab-df-container\">\n",
              "      <div>\n",
              "<style scoped>\n",
              "    .dataframe tbody tr th:only-of-type {\n",
              "        vertical-align: middle;\n",
              "    }\n",
              "\n",
              "    .dataframe tbody tr th {\n",
              "        vertical-align: top;\n",
              "    }\n",
              "\n",
              "    .dataframe thead th {\n",
              "        text-align: right;\n",
              "    }\n",
              "</style>\n",
              "<table border=\"1\" class=\"dataframe\">\n",
              "  <thead>\n",
              "    <tr style=\"text-align: right;\">\n",
              "      <th></th>\n",
              "      <th>Activity</th>\n",
              "      <th>D1</th>\n",
              "      <th>D2</th>\n",
              "      <th>D3</th>\n",
              "      <th>D4</th>\n",
              "      <th>D5</th>\n",
              "      <th>D6</th>\n",
              "      <th>D7</th>\n",
              "      <th>D8</th>\n",
              "      <th>D9</th>\n",
              "      <th>D10</th>\n",
              "      <th>D11</th>\n",
              "      <th>D12</th>\n",
              "      <th>D13</th>\n",
              "      <th>D14</th>\n",
              "      <th>D15</th>\n",
              "      <th>D16</th>\n",
              "      <th>D17</th>\n",
              "      <th>D18</th>\n",
              "      <th>D19</th>\n",
              "      <th>D20</th>\n",
              "      <th>D21</th>\n",
              "      <th>D22</th>\n",
              "      <th>D23</th>\n",
              "      <th>D24</th>\n",
              "      <th>D25</th>\n",
              "      <th>D26</th>\n",
              "      <th>D27</th>\n",
              "      <th>D28</th>\n",
              "      <th>D29</th>\n",
              "      <th>D30</th>\n",
              "      <th>D31</th>\n",
              "      <th>D32</th>\n",
              "      <th>D33</th>\n",
              "      <th>D34</th>\n",
              "      <th>D35</th>\n",
              "      <th>D36</th>\n",
              "      <th>D37</th>\n",
              "      <th>D38</th>\n",
              "      <th>D39</th>\n",
              "      <th>...</th>\n",
              "      <th>D1737</th>\n",
              "      <th>D1738</th>\n",
              "      <th>D1739</th>\n",
              "      <th>D1740</th>\n",
              "      <th>D1741</th>\n",
              "      <th>D1742</th>\n",
              "      <th>D1743</th>\n",
              "      <th>D1744</th>\n",
              "      <th>D1745</th>\n",
              "      <th>D1746</th>\n",
              "      <th>D1747</th>\n",
              "      <th>D1748</th>\n",
              "      <th>D1749</th>\n",
              "      <th>D1750</th>\n",
              "      <th>D1751</th>\n",
              "      <th>D1752</th>\n",
              "      <th>D1753</th>\n",
              "      <th>D1754</th>\n",
              "      <th>D1755</th>\n",
              "      <th>D1756</th>\n",
              "      <th>D1757</th>\n",
              "      <th>D1758</th>\n",
              "      <th>D1759</th>\n",
              "      <th>D1760</th>\n",
              "      <th>D1761</th>\n",
              "      <th>D1762</th>\n",
              "      <th>D1763</th>\n",
              "      <th>D1764</th>\n",
              "      <th>D1765</th>\n",
              "      <th>D1766</th>\n",
              "      <th>D1767</th>\n",
              "      <th>D1768</th>\n",
              "      <th>D1769</th>\n",
              "      <th>D1770</th>\n",
              "      <th>D1771</th>\n",
              "      <th>D1772</th>\n",
              "      <th>D1773</th>\n",
              "      <th>D1774</th>\n",
              "      <th>D1775</th>\n",
              "      <th>D1776</th>\n",
              "    </tr>\n",
              "  </thead>\n",
              "  <tbody>\n",
              "    <tr>\n",
              "      <th>0</th>\n",
              "      <td>1</td>\n",
              "      <td>0.000000</td>\n",
              "      <td>0.497009</td>\n",
              "      <td>0.10</td>\n",
              "      <td>0.0</td>\n",
              "      <td>0.132956</td>\n",
              "      <td>0.678031</td>\n",
              "      <td>0.273166</td>\n",
              "      <td>0.585445</td>\n",
              "      <td>0.743663</td>\n",
              "      <td>0.243144</td>\n",
              "      <td>0.187856</td>\n",
              "      <td>0.0000</td>\n",
              "      <td>0.000000</td>\n",
              "      <td>0.069000</td>\n",
              "      <td>0.362012</td>\n",
              "      <td>0.301773</td>\n",
              "      <td>0.597930</td>\n",
              "      <td>0.190813</td>\n",
              "      <td>0.107219</td>\n",
              "      <td>0.070500</td>\n",
              "      <td>0.00717</td>\n",
              "      <td>0.137931</td>\n",
              "      <td>1</td>\n",
              "      <td>0.00</td>\n",
              "      <td>0.496683</td>\n",
              "      <td>0.753131</td>\n",
              "      <td>1</td>\n",
              "      <td>1</td>\n",
              "      <td>0.000000</td>\n",
              "      <td>0.262919</td>\n",
              "      <td>0.077200</td>\n",
              "      <td>0.082700</td>\n",
              "      <td>0.200590</td>\n",
              "      <td>0.00000</td>\n",
              "      <td>0.000000</td>\n",
              "      <td>0.000000</td>\n",
              "      <td>0.00</td>\n",
              "      <td>0.162383</td>\n",
              "      <td>0.150153</td>\n",
              "      <td>...</td>\n",
              "      <td>0</td>\n",
              "      <td>0</td>\n",
              "      <td>0</td>\n",
              "      <td>0</td>\n",
              "      <td>0</td>\n",
              "      <td>0</td>\n",
              "      <td>0</td>\n",
              "      <td>0</td>\n",
              "      <td>0</td>\n",
              "      <td>0</td>\n",
              "      <td>0</td>\n",
              "      <td>0</td>\n",
              "      <td>0</td>\n",
              "      <td>0</td>\n",
              "      <td>0</td>\n",
              "      <td>0</td>\n",
              "      <td>0</td>\n",
              "      <td>0</td>\n",
              "      <td>0</td>\n",
              "      <td>0</td>\n",
              "      <td>0</td>\n",
              "      <td>0</td>\n",
              "      <td>0</td>\n",
              "      <td>0</td>\n",
              "      <td>0</td>\n",
              "      <td>0</td>\n",
              "      <td>0</td>\n",
              "      <td>0</td>\n",
              "      <td>0</td>\n",
              "      <td>0</td>\n",
              "      <td>0</td>\n",
              "      <td>0</td>\n",
              "      <td>0</td>\n",
              "      <td>0</td>\n",
              "      <td>0</td>\n",
              "      <td>0</td>\n",
              "      <td>0</td>\n",
              "      <td>0</td>\n",
              "      <td>0</td>\n",
              "      <td>0</td>\n",
              "    </tr>\n",
              "    <tr>\n",
              "      <th>1</th>\n",
              "      <td>1</td>\n",
              "      <td>0.366667</td>\n",
              "      <td>0.606291</td>\n",
              "      <td>0.05</td>\n",
              "      <td>0.0</td>\n",
              "      <td>0.111209</td>\n",
              "      <td>0.803455</td>\n",
              "      <td>0.106105</td>\n",
              "      <td>0.411754</td>\n",
              "      <td>0.836582</td>\n",
              "      <td>0.106480</td>\n",
              "      <td>0.101382</td>\n",
              "      <td>0.1875</td>\n",
              "      <td>0.193548</td>\n",
              "      <td>0.131001</td>\n",
              "      <td>0.350206</td>\n",
              "      <td>0.187419</td>\n",
              "      <td>0.762669</td>\n",
              "      <td>0.180473</td>\n",
              "      <td>0.329962</td>\n",
              "      <td>0.107681</td>\n",
              "      <td>0.01950</td>\n",
              "      <td>0.206897</td>\n",
              "      <td>0</td>\n",
              "      <td>0.75</td>\n",
              "      <td>0.449869</td>\n",
              "      <td>0.720484</td>\n",
              "      <td>0</td>\n",
              "      <td>0</td>\n",
              "      <td>0.666667</td>\n",
              "      <td>0.099400</td>\n",
              "      <td>0.289240</td>\n",
              "      <td>0.216710</td>\n",
              "      <td>0.100295</td>\n",
              "      <td>0.16958</td>\n",
              "      <td>0.235294</td>\n",
              "      <td>0.000000</td>\n",
              "      <td>0.00</td>\n",
              "      <td>0.119104</td>\n",
              "      <td>0.075100</td>\n",
              "      <td>...</td>\n",
              "      <td>0</td>\n",
              "      <td>1</td>\n",
              "      <td>1</td>\n",
              "      <td>0</td>\n",
              "      <td>0</td>\n",
              "      <td>0</td>\n",
              "      <td>1</td>\n",
              "      <td>1</td>\n",
              "      <td>0</td>\n",
              "      <td>1</td>\n",
              "      <td>0</td>\n",
              "      <td>0</td>\n",
              "      <td>1</td>\n",
              "      <td>0</td>\n",
              "      <td>1</td>\n",
              "      <td>1</td>\n",
              "      <td>1</td>\n",
              "      <td>0</td>\n",
              "      <td>0</td>\n",
              "      <td>0</td>\n",
              "      <td>1</td>\n",
              "      <td>0</td>\n",
              "      <td>0</td>\n",
              "      <td>0</td>\n",
              "      <td>1</td>\n",
              "      <td>0</td>\n",
              "      <td>1</td>\n",
              "      <td>1</td>\n",
              "      <td>0</td>\n",
              "      <td>0</td>\n",
              "      <td>1</td>\n",
              "      <td>1</td>\n",
              "      <td>1</td>\n",
              "      <td>1</td>\n",
              "      <td>0</td>\n",
              "      <td>1</td>\n",
              "      <td>0</td>\n",
              "      <td>0</td>\n",
              "      <td>1</td>\n",
              "      <td>0</td>\n",
              "    </tr>\n",
              "    <tr>\n",
              "      <th>2</th>\n",
              "      <td>1</td>\n",
              "      <td>0.033300</td>\n",
              "      <td>0.480124</td>\n",
              "      <td>0.00</td>\n",
              "      <td>0.0</td>\n",
              "      <td>0.209791</td>\n",
              "      <td>0.610350</td>\n",
              "      <td>0.356453</td>\n",
              "      <td>0.517720</td>\n",
              "      <td>0.679051</td>\n",
              "      <td>0.352308</td>\n",
              "      <td>0.193548</td>\n",
              "      <td>0.1250</td>\n",
              "      <td>0.000000</td>\n",
              "      <td>0.068900</td>\n",
              "      <td>0.574628</td>\n",
              "      <td>0.283327</td>\n",
              "      <td>0.510633</td>\n",
              "      <td>0.184480</td>\n",
              "      <td>0.073300</td>\n",
              "      <td>0.061600</td>\n",
              "      <td>0.00566</td>\n",
              "      <td>0.000000</td>\n",
              "      <td>1</td>\n",
              "      <td>0.00</td>\n",
              "      <td>0.486610</td>\n",
              "      <td>0.803577</td>\n",
              "      <td>0</td>\n",
              "      <td>1</td>\n",
              "      <td>0.000000</td>\n",
              "      <td>0.428659</td>\n",
              "      <td>0.032400</td>\n",
              "      <td>0.072400</td>\n",
              "      <td>0.000000</td>\n",
              "      <td>0.03930</td>\n",
              "      <td>0.000000</td>\n",
              "      <td>0.000000</td>\n",
              "      <td>0.00</td>\n",
              "      <td>0.076100</td>\n",
              "      <td>0.225229</td>\n",
              "      <td>...</td>\n",
              "      <td>0</td>\n",
              "      <td>0</td>\n",
              "      <td>0</td>\n",
              "      <td>0</td>\n",
              "      <td>0</td>\n",
              "      <td>0</td>\n",
              "      <td>0</td>\n",
              "      <td>0</td>\n",
              "      <td>0</td>\n",
              "      <td>0</td>\n",
              "      <td>0</td>\n",
              "      <td>0</td>\n",
              "      <td>0</td>\n",
              "      <td>0</td>\n",
              "      <td>0</td>\n",
              "      <td>0</td>\n",
              "      <td>0</td>\n",
              "      <td>0</td>\n",
              "      <td>0</td>\n",
              "      <td>0</td>\n",
              "      <td>0</td>\n",
              "      <td>0</td>\n",
              "      <td>0</td>\n",
              "      <td>0</td>\n",
              "      <td>0</td>\n",
              "      <td>0</td>\n",
              "      <td>0</td>\n",
              "      <td>0</td>\n",
              "      <td>0</td>\n",
              "      <td>0</td>\n",
              "      <td>0</td>\n",
              "      <td>0</td>\n",
              "      <td>0</td>\n",
              "      <td>0</td>\n",
              "      <td>0</td>\n",
              "      <td>0</td>\n",
              "      <td>0</td>\n",
              "      <td>0</td>\n",
              "      <td>0</td>\n",
              "      <td>0</td>\n",
              "    </tr>\n",
              "    <tr>\n",
              "      <th>3</th>\n",
              "      <td>1</td>\n",
              "      <td>0.000000</td>\n",
              "      <td>0.538825</td>\n",
              "      <td>0.00</td>\n",
              "      <td>0.5</td>\n",
              "      <td>0.196344</td>\n",
              "      <td>0.724230</td>\n",
              "      <td>0.235606</td>\n",
              "      <td>0.288764</td>\n",
              "      <td>0.805110</td>\n",
              "      <td>0.208989</td>\n",
              "      <td>0.000000</td>\n",
              "      <td>0.0000</td>\n",
              "      <td>0.000000</td>\n",
              "      <td>0.145947</td>\n",
              "      <td>0.584688</td>\n",
              "      <td>0.325247</td>\n",
              "      <td>0.496745</td>\n",
              "      <td>0.242288</td>\n",
              "      <td>0.087700</td>\n",
              "      <td>0.075300</td>\n",
              "      <td>0.01680</td>\n",
              "      <td>0.000000</td>\n",
              "      <td>1</td>\n",
              "      <td>0.00</td>\n",
              "      <td>0.459122</td>\n",
              "      <td>0.829482</td>\n",
              "      <td>0</td>\n",
              "      <td>1</td>\n",
              "      <td>0.000000</td>\n",
              "      <td>0.435410</td>\n",
              "      <td>0.118562</td>\n",
              "      <td>0.000000</td>\n",
              "      <td>0.000000</td>\n",
              "      <td>0.00000</td>\n",
              "      <td>0.000000</td>\n",
              "      <td>0.000000</td>\n",
              "      <td>0.00</td>\n",
              "      <td>0.068900</td>\n",
              "      <td>0.000000</td>\n",
              "      <td>...</td>\n",
              "      <td>0</td>\n",
              "      <td>0</td>\n",
              "      <td>0</td>\n",
              "      <td>0</td>\n",
              "      <td>0</td>\n",
              "      <td>0</td>\n",
              "      <td>0</td>\n",
              "      <td>0</td>\n",
              "      <td>0</td>\n",
              "      <td>0</td>\n",
              "      <td>0</td>\n",
              "      <td>0</td>\n",
              "      <td>0</td>\n",
              "      <td>0</td>\n",
              "      <td>0</td>\n",
              "      <td>0</td>\n",
              "      <td>0</td>\n",
              "      <td>0</td>\n",
              "      <td>0</td>\n",
              "      <td>0</td>\n",
              "      <td>0</td>\n",
              "      <td>0</td>\n",
              "      <td>0</td>\n",
              "      <td>0</td>\n",
              "      <td>0</td>\n",
              "      <td>0</td>\n",
              "      <td>0</td>\n",
              "      <td>0</td>\n",
              "      <td>0</td>\n",
              "      <td>0</td>\n",
              "      <td>0</td>\n",
              "      <td>0</td>\n",
              "      <td>0</td>\n",
              "      <td>0</td>\n",
              "      <td>0</td>\n",
              "      <td>0</td>\n",
              "      <td>0</td>\n",
              "      <td>0</td>\n",
              "      <td>0</td>\n",
              "      <td>0</td>\n",
              "    </tr>\n",
              "    <tr>\n",
              "      <th>4</th>\n",
              "      <td>0</td>\n",
              "      <td>0.100000</td>\n",
              "      <td>0.517794</td>\n",
              "      <td>0.00</td>\n",
              "      <td>0.0</td>\n",
              "      <td>0.494734</td>\n",
              "      <td>0.781422</td>\n",
              "      <td>0.154361</td>\n",
              "      <td>0.303809</td>\n",
              "      <td>0.812646</td>\n",
              "      <td>0.125177</td>\n",
              "      <td>0.532258</td>\n",
              "      <td>0.0000</td>\n",
              "      <td>0.000000</td>\n",
              "      <td>0.094900</td>\n",
              "      <td>0.540323</td>\n",
              "      <td>0.116775</td>\n",
              "      <td>0.552982</td>\n",
              "      <td>0.167897</td>\n",
              "      <td>0.116140</td>\n",
              "      <td>0.054200</td>\n",
              "      <td>0.01350</td>\n",
              "      <td>0.103448</td>\n",
              "      <td>1</td>\n",
              "      <td>0.00</td>\n",
              "      <td>0.381883</td>\n",
              "      <td>0.913374</td>\n",
              "      <td>0</td>\n",
              "      <td>1</td>\n",
              "      <td>0.000000</td>\n",
              "      <td>0.305333</td>\n",
              "      <td>0.054100</td>\n",
              "      <td>0.170822</td>\n",
              "      <td>0.000000</td>\n",
              "      <td>0.00000</td>\n",
              "      <td>0.176471</td>\n",
              "      <td>0.000000</td>\n",
              "      <td>0.00</td>\n",
              "      <td>0.019900</td>\n",
              "      <td>0.057400</td>\n",
              "      <td>...</td>\n",
              "      <td>0</td>\n",
              "      <td>0</td>\n",
              "      <td>0</td>\n",
              "      <td>0</td>\n",
              "      <td>0</td>\n",
              "      <td>0</td>\n",
              "      <td>0</td>\n",
              "      <td>0</td>\n",
              "      <td>0</td>\n",
              "      <td>0</td>\n",
              "      <td>0</td>\n",
              "      <td>0</td>\n",
              "      <td>0</td>\n",
              "      <td>0</td>\n",
              "      <td>0</td>\n",
              "      <td>0</td>\n",
              "      <td>0</td>\n",
              "      <td>0</td>\n",
              "      <td>0</td>\n",
              "      <td>0</td>\n",
              "      <td>0</td>\n",
              "      <td>0</td>\n",
              "      <td>0</td>\n",
              "      <td>0</td>\n",
              "      <td>0</td>\n",
              "      <td>0</td>\n",
              "      <td>0</td>\n",
              "      <td>0</td>\n",
              "      <td>0</td>\n",
              "      <td>0</td>\n",
              "      <td>0</td>\n",
              "      <td>0</td>\n",
              "      <td>0</td>\n",
              "      <td>0</td>\n",
              "      <td>0</td>\n",
              "      <td>0</td>\n",
              "      <td>0</td>\n",
              "      <td>0</td>\n",
              "      <td>0</td>\n",
              "      <td>0</td>\n",
              "    </tr>\n",
              "    <tr>\n",
              "      <th>...</th>\n",
              "      <td>...</td>\n",
              "      <td>...</td>\n",
              "      <td>...</td>\n",
              "      <td>...</td>\n",
              "      <td>...</td>\n",
              "      <td>...</td>\n",
              "      <td>...</td>\n",
              "      <td>...</td>\n",
              "      <td>...</td>\n",
              "      <td>...</td>\n",
              "      <td>...</td>\n",
              "      <td>...</td>\n",
              "      <td>...</td>\n",
              "      <td>...</td>\n",
              "      <td>...</td>\n",
              "      <td>...</td>\n",
              "      <td>...</td>\n",
              "      <td>...</td>\n",
              "      <td>...</td>\n",
              "      <td>...</td>\n",
              "      <td>...</td>\n",
              "      <td>...</td>\n",
              "      <td>...</td>\n",
              "      <td>...</td>\n",
              "      <td>...</td>\n",
              "      <td>...</td>\n",
              "      <td>...</td>\n",
              "      <td>...</td>\n",
              "      <td>...</td>\n",
              "      <td>...</td>\n",
              "      <td>...</td>\n",
              "      <td>...</td>\n",
              "      <td>...</td>\n",
              "      <td>...</td>\n",
              "      <td>...</td>\n",
              "      <td>...</td>\n",
              "      <td>...</td>\n",
              "      <td>...</td>\n",
              "      <td>...</td>\n",
              "      <td>...</td>\n",
              "      <td>...</td>\n",
              "      <td>...</td>\n",
              "      <td>...</td>\n",
              "      <td>...</td>\n",
              "      <td>...</td>\n",
              "      <td>...</td>\n",
              "      <td>...</td>\n",
              "      <td>...</td>\n",
              "      <td>...</td>\n",
              "      <td>...</td>\n",
              "      <td>...</td>\n",
              "      <td>...</td>\n",
              "      <td>...</td>\n",
              "      <td>...</td>\n",
              "      <td>...</td>\n",
              "      <td>...</td>\n",
              "      <td>...</td>\n",
              "      <td>...</td>\n",
              "      <td>...</td>\n",
              "      <td>...</td>\n",
              "      <td>...</td>\n",
              "      <td>...</td>\n",
              "      <td>...</td>\n",
              "      <td>...</td>\n",
              "      <td>...</td>\n",
              "      <td>...</td>\n",
              "      <td>...</td>\n",
              "      <td>...</td>\n",
              "      <td>...</td>\n",
              "      <td>...</td>\n",
              "      <td>...</td>\n",
              "      <td>...</td>\n",
              "      <td>...</td>\n",
              "      <td>...</td>\n",
              "      <td>...</td>\n",
              "      <td>...</td>\n",
              "      <td>...</td>\n",
              "      <td>...</td>\n",
              "      <td>...</td>\n",
              "      <td>...</td>\n",
              "      <td>...</td>\n",
              "    </tr>\n",
              "    <tr>\n",
              "      <th>3746</th>\n",
              "      <td>1</td>\n",
              "      <td>0.033300</td>\n",
              "      <td>0.506409</td>\n",
              "      <td>0.10</td>\n",
              "      <td>0.0</td>\n",
              "      <td>0.209887</td>\n",
              "      <td>0.633426</td>\n",
              "      <td>0.297659</td>\n",
              "      <td>0.376124</td>\n",
              "      <td>0.727093</td>\n",
              "      <td>0.308163</td>\n",
              "      <td>0.000000</td>\n",
              "      <td>0.0000</td>\n",
              "      <td>0.000000</td>\n",
              "      <td>0.071800</td>\n",
              "      <td>0.362006</td>\n",
              "      <td>0.229374</td>\n",
              "      <td>0.603893</td>\n",
              "      <td>0.129706</td>\n",
              "      <td>0.092400</td>\n",
              "      <td>0.036100</td>\n",
              "      <td>0.00473</td>\n",
              "      <td>0.069000</td>\n",
              "      <td>1</td>\n",
              "      <td>0.00</td>\n",
              "      <td>0.486439</td>\n",
              "      <td>0.783710</td>\n",
              "      <td>1</td>\n",
              "      <td>1</td>\n",
              "      <td>0.000000</td>\n",
              "      <td>0.364694</td>\n",
              "      <td>0.136861</td>\n",
              "      <td>0.047300</td>\n",
              "      <td>0.100295</td>\n",
              "      <td>0.00000</td>\n",
              "      <td>0.000000</td>\n",
              "      <td>0.000000</td>\n",
              "      <td>0.00</td>\n",
              "      <td>0.223324</td>\n",
              "      <td>0.000000</td>\n",
              "      <td>...</td>\n",
              "      <td>0</td>\n",
              "      <td>0</td>\n",
              "      <td>0</td>\n",
              "      <td>0</td>\n",
              "      <td>0</td>\n",
              "      <td>0</td>\n",
              "      <td>0</td>\n",
              "      <td>0</td>\n",
              "      <td>0</td>\n",
              "      <td>0</td>\n",
              "      <td>0</td>\n",
              "      <td>0</td>\n",
              "      <td>0</td>\n",
              "      <td>0</td>\n",
              "      <td>0</td>\n",
              "      <td>0</td>\n",
              "      <td>0</td>\n",
              "      <td>0</td>\n",
              "      <td>0</td>\n",
              "      <td>0</td>\n",
              "      <td>0</td>\n",
              "      <td>0</td>\n",
              "      <td>0</td>\n",
              "      <td>0</td>\n",
              "      <td>0</td>\n",
              "      <td>0</td>\n",
              "      <td>0</td>\n",
              "      <td>0</td>\n",
              "      <td>0</td>\n",
              "      <td>0</td>\n",
              "      <td>0</td>\n",
              "      <td>0</td>\n",
              "      <td>0</td>\n",
              "      <td>0</td>\n",
              "      <td>0</td>\n",
              "      <td>0</td>\n",
              "      <td>0</td>\n",
              "      <td>0</td>\n",
              "      <td>0</td>\n",
              "      <td>0</td>\n",
              "    </tr>\n",
              "    <tr>\n",
              "      <th>3747</th>\n",
              "      <td>1</td>\n",
              "      <td>0.133333</td>\n",
              "      <td>0.651023</td>\n",
              "      <td>0.15</td>\n",
              "      <td>0.0</td>\n",
              "      <td>0.151154</td>\n",
              "      <td>0.766505</td>\n",
              "      <td>0.170876</td>\n",
              "      <td>0.404546</td>\n",
              "      <td>0.787935</td>\n",
              "      <td>0.192527</td>\n",
              "      <td>0.085200</td>\n",
              "      <td>0.2500</td>\n",
              "      <td>0.064500</td>\n",
              "      <td>0.121309</td>\n",
              "      <td>0.347521</td>\n",
              "      <td>0.250846</td>\n",
              "      <td>0.660747</td>\n",
              "      <td>0.221975</td>\n",
              "      <td>0.167944</td>\n",
              "      <td>0.065700</td>\n",
              "      <td>0.00939</td>\n",
              "      <td>0.172414</td>\n",
              "      <td>1</td>\n",
              "      <td>0.00</td>\n",
              "      <td>0.390864</td>\n",
              "      <td>0.815279</td>\n",
              "      <td>0</td>\n",
              "      <td>1</td>\n",
              "      <td>0.000000</td>\n",
              "      <td>0.153533</td>\n",
              "      <td>0.127563</td>\n",
              "      <td>0.122141</td>\n",
              "      <td>0.104815</td>\n",
              "      <td>0.08000</td>\n",
              "      <td>0.191429</td>\n",
              "      <td>0.146735</td>\n",
              "      <td>0.00</td>\n",
              "      <td>0.101137</td>\n",
              "      <td>0.075100</td>\n",
              "      <td>...</td>\n",
              "      <td>1</td>\n",
              "      <td>1</td>\n",
              "      <td>0</td>\n",
              "      <td>1</td>\n",
              "      <td>1</td>\n",
              "      <td>1</td>\n",
              "      <td>1</td>\n",
              "      <td>0</td>\n",
              "      <td>1</td>\n",
              "      <td>0</td>\n",
              "      <td>0</td>\n",
              "      <td>1</td>\n",
              "      <td>0</td>\n",
              "      <td>0</td>\n",
              "      <td>0</td>\n",
              "      <td>0</td>\n",
              "      <td>1</td>\n",
              "      <td>1</td>\n",
              "      <td>1</td>\n",
              "      <td>0</td>\n",
              "      <td>1</td>\n",
              "      <td>0</td>\n",
              "      <td>0</td>\n",
              "      <td>0</td>\n",
              "      <td>1</td>\n",
              "      <td>1</td>\n",
              "      <td>1</td>\n",
              "      <td>1</td>\n",
              "      <td>1</td>\n",
              "      <td>0</td>\n",
              "      <td>0</td>\n",
              "      <td>0</td>\n",
              "      <td>1</td>\n",
              "      <td>0</td>\n",
              "      <td>1</td>\n",
              "      <td>0</td>\n",
              "      <td>1</td>\n",
              "      <td>0</td>\n",
              "      <td>0</td>\n",
              "      <td>0</td>\n",
              "    </tr>\n",
              "    <tr>\n",
              "      <th>3748</th>\n",
              "      <td>0</td>\n",
              "      <td>0.200000</td>\n",
              "      <td>0.520564</td>\n",
              "      <td>0.00</td>\n",
              "      <td>0.0</td>\n",
              "      <td>0.179949</td>\n",
              "      <td>0.768785</td>\n",
              "      <td>0.177341</td>\n",
              "      <td>0.471179</td>\n",
              "      <td>0.872241</td>\n",
              "      <td>0.122132</td>\n",
              "      <td>0.624027</td>\n",
              "      <td>0.1875</td>\n",
              "      <td>0.064500</td>\n",
              "      <td>0.091700</td>\n",
              "      <td>0.519094</td>\n",
              "      <td>0.243037</td>\n",
              "      <td>0.691896</td>\n",
              "      <td>0.215831</td>\n",
              "      <td>0.338637</td>\n",
              "      <td>0.290643</td>\n",
              "      <td>0.04450</td>\n",
              "      <td>0.103448</td>\n",
              "      <td>1</td>\n",
              "      <td>0.00</td>\n",
              "      <td>0.590995</td>\n",
              "      <td>0.581372</td>\n",
              "      <td>0</td>\n",
              "      <td>0</td>\n",
              "      <td>0.333333</td>\n",
              "      <td>0.128839</td>\n",
              "      <td>0.357203</td>\n",
              "      <td>0.077600</td>\n",
              "      <td>0.028500</td>\n",
              "      <td>0.06200</td>\n",
              "      <td>0.308468</td>\n",
              "      <td>0.166667</td>\n",
              "      <td>0.00</td>\n",
              "      <td>0.019900</td>\n",
              "      <td>0.377263</td>\n",
              "      <td>...</td>\n",
              "      <td>0</td>\n",
              "      <td>0</td>\n",
              "      <td>0</td>\n",
              "      <td>0</td>\n",
              "      <td>0</td>\n",
              "      <td>0</td>\n",
              "      <td>0</td>\n",
              "      <td>0</td>\n",
              "      <td>0</td>\n",
              "      <td>0</td>\n",
              "      <td>0</td>\n",
              "      <td>0</td>\n",
              "      <td>0</td>\n",
              "      <td>0</td>\n",
              "      <td>0</td>\n",
              "      <td>0</td>\n",
              "      <td>0</td>\n",
              "      <td>0</td>\n",
              "      <td>0</td>\n",
              "      <td>0</td>\n",
              "      <td>0</td>\n",
              "      <td>0</td>\n",
              "      <td>0</td>\n",
              "      <td>0</td>\n",
              "      <td>0</td>\n",
              "      <td>0</td>\n",
              "      <td>0</td>\n",
              "      <td>0</td>\n",
              "      <td>0</td>\n",
              "      <td>0</td>\n",
              "      <td>0</td>\n",
              "      <td>0</td>\n",
              "      <td>0</td>\n",
              "      <td>0</td>\n",
              "      <td>0</td>\n",
              "      <td>0</td>\n",
              "      <td>0</td>\n",
              "      <td>0</td>\n",
              "      <td>0</td>\n",
              "      <td>0</td>\n",
              "    </tr>\n",
              "    <tr>\n",
              "      <th>3749</th>\n",
              "      <td>1</td>\n",
              "      <td>0.100000</td>\n",
              "      <td>0.765646</td>\n",
              "      <td>0.00</td>\n",
              "      <td>0.0</td>\n",
              "      <td>0.536954</td>\n",
              "      <td>0.634936</td>\n",
              "      <td>0.342713</td>\n",
              "      <td>0.447162</td>\n",
              "      <td>0.672689</td>\n",
              "      <td>0.372936</td>\n",
              "      <td>0.319355</td>\n",
              "      <td>0.1875</td>\n",
              "      <td>0.000000</td>\n",
              "      <td>0.273901</td>\n",
              "      <td>0.549001</td>\n",
              "      <td>0.567326</td>\n",
              "      <td>0.427189</td>\n",
              "      <td>0.332955</td>\n",
              "      <td>0.168837</td>\n",
              "      <td>0.105198</td>\n",
              "      <td>0.02240</td>\n",
              "      <td>0.034500</td>\n",
              "      <td>1</td>\n",
              "      <td>0.00</td>\n",
              "      <td>0.471154</td>\n",
              "      <td>0.795728</td>\n",
              "      <td>1</td>\n",
              "      <td>1</td>\n",
              "      <td>0.000000</td>\n",
              "      <td>0.282592</td>\n",
              "      <td>0.005600</td>\n",
              "      <td>0.010300</td>\n",
              "      <td>0.070200</td>\n",
              "      <td>0.08590</td>\n",
              "      <td>0.058800</td>\n",
              "      <td>0.000000</td>\n",
              "      <td>0.25</td>\n",
              "      <td>0.000000</td>\n",
              "      <td>0.271839</td>\n",
              "      <td>...</td>\n",
              "      <td>0</td>\n",
              "      <td>0</td>\n",
              "      <td>0</td>\n",
              "      <td>0</td>\n",
              "      <td>0</td>\n",
              "      <td>0</td>\n",
              "      <td>0</td>\n",
              "      <td>0</td>\n",
              "      <td>0</td>\n",
              "      <td>0</td>\n",
              "      <td>0</td>\n",
              "      <td>0</td>\n",
              "      <td>0</td>\n",
              "      <td>0</td>\n",
              "      <td>0</td>\n",
              "      <td>0</td>\n",
              "      <td>0</td>\n",
              "      <td>0</td>\n",
              "      <td>0</td>\n",
              "      <td>0</td>\n",
              "      <td>0</td>\n",
              "      <td>0</td>\n",
              "      <td>0</td>\n",
              "      <td>0</td>\n",
              "      <td>0</td>\n",
              "      <td>0</td>\n",
              "      <td>0</td>\n",
              "      <td>0</td>\n",
              "      <td>0</td>\n",
              "      <td>0</td>\n",
              "      <td>0</td>\n",
              "      <td>0</td>\n",
              "      <td>0</td>\n",
              "      <td>0</td>\n",
              "      <td>0</td>\n",
              "      <td>0</td>\n",
              "      <td>0</td>\n",
              "      <td>0</td>\n",
              "      <td>0</td>\n",
              "      <td>0</td>\n",
              "    </tr>\n",
              "    <tr>\n",
              "      <th>3750</th>\n",
              "      <td>0</td>\n",
              "      <td>0.133333</td>\n",
              "      <td>0.533952</td>\n",
              "      <td>0.00</td>\n",
              "      <td>0.0</td>\n",
              "      <td>0.347966</td>\n",
              "      <td>0.757971</td>\n",
              "      <td>0.230667</td>\n",
              "      <td>0.272652</td>\n",
              "      <td>0.854116</td>\n",
              "      <td>0.140316</td>\n",
              "      <td>0.736973</td>\n",
              "      <td>0.1250</td>\n",
              "      <td>0.000000</td>\n",
              "      <td>0.097900</td>\n",
              "      <td>0.548488</td>\n",
              "      <td>0.170359</td>\n",
              "      <td>0.608174</td>\n",
              "      <td>0.198938</td>\n",
              "      <td>0.161527</td>\n",
              "      <td>0.302829</td>\n",
              "      <td>0.02470</td>\n",
              "      <td>0.069000</td>\n",
              "      <td>1</td>\n",
              "      <td>0.00</td>\n",
              "      <td>0.477220</td>\n",
              "      <td>0.821335</td>\n",
              "      <td>0</td>\n",
              "      <td>1</td>\n",
              "      <td>0.000000</td>\n",
              "      <td>0.221986</td>\n",
              "      <td>0.217089</td>\n",
              "      <td>0.000000</td>\n",
              "      <td>0.000000</td>\n",
              "      <td>0.00000</td>\n",
              "      <td>0.117647</td>\n",
              "      <td>0.333333</td>\n",
              "      <td>0.00</td>\n",
              "      <td>0.039900</td>\n",
              "      <td>0.106612</td>\n",
              "      <td>...</td>\n",
              "      <td>0</td>\n",
              "      <td>0</td>\n",
              "      <td>0</td>\n",
              "      <td>0</td>\n",
              "      <td>0</td>\n",
              "      <td>0</td>\n",
              "      <td>0</td>\n",
              "      <td>0</td>\n",
              "      <td>0</td>\n",
              "      <td>0</td>\n",
              "      <td>0</td>\n",
              "      <td>0</td>\n",
              "      <td>0</td>\n",
              "      <td>0</td>\n",
              "      <td>0</td>\n",
              "      <td>0</td>\n",
              "      <td>0</td>\n",
              "      <td>0</td>\n",
              "      <td>0</td>\n",
              "      <td>0</td>\n",
              "      <td>0</td>\n",
              "      <td>0</td>\n",
              "      <td>0</td>\n",
              "      <td>0</td>\n",
              "      <td>0</td>\n",
              "      <td>0</td>\n",
              "      <td>0</td>\n",
              "      <td>0</td>\n",
              "      <td>0</td>\n",
              "      <td>0</td>\n",
              "      <td>0</td>\n",
              "      <td>0</td>\n",
              "      <td>0</td>\n",
              "      <td>0</td>\n",
              "      <td>0</td>\n",
              "      <td>0</td>\n",
              "      <td>0</td>\n",
              "      <td>0</td>\n",
              "      <td>0</td>\n",
              "      <td>0</td>\n",
              "    </tr>\n",
              "  </tbody>\n",
              "</table>\n",
              "<p>3751 rows × 1777 columns</p>\n",
              "</div>\n",
              "      <button class=\"colab-df-convert\" onclick=\"convertToInteractive('df-29d45c69-33ac-4e0a-826a-f409b623a28a')\"\n",
              "              title=\"Convert this dataframe to an interactive table.\"\n",
              "              style=\"display:none;\">\n",
              "        \n",
              "  <svg xmlns=\"http://www.w3.org/2000/svg\" height=\"24px\"viewBox=\"0 0 24 24\"\n",
              "       width=\"24px\">\n",
              "    <path d=\"M0 0h24v24H0V0z\" fill=\"none\"/>\n",
              "    <path d=\"M18.56 5.44l.94 2.06.94-2.06 2.06-.94-2.06-.94-.94-2.06-.94 2.06-2.06.94zm-11 1L8.5 8.5l.94-2.06 2.06-.94-2.06-.94L8.5 2.5l-.94 2.06-2.06.94zm10 10l.94 2.06.94-2.06 2.06-.94-2.06-.94-.94-2.06-.94 2.06-2.06.94z\"/><path d=\"M17.41 7.96l-1.37-1.37c-.4-.4-.92-.59-1.43-.59-.52 0-1.04.2-1.43.59L10.3 9.45l-7.72 7.72c-.78.78-.78 2.05 0 2.83L4 21.41c.39.39.9.59 1.41.59.51 0 1.02-.2 1.41-.59l7.78-7.78 2.81-2.81c.8-.78.8-2.07 0-2.86zM5.41 20L4 18.59l7.72-7.72 1.47 1.35L5.41 20z\"/>\n",
              "  </svg>\n",
              "      </button>\n",
              "      \n",
              "  <style>\n",
              "    .colab-df-container {\n",
              "      display:flex;\n",
              "      flex-wrap:wrap;\n",
              "      gap: 12px;\n",
              "    }\n",
              "\n",
              "    .colab-df-convert {\n",
              "      background-color: #E8F0FE;\n",
              "      border: none;\n",
              "      border-radius: 50%;\n",
              "      cursor: pointer;\n",
              "      display: none;\n",
              "      fill: #1967D2;\n",
              "      height: 32px;\n",
              "      padding: 0 0 0 0;\n",
              "      width: 32px;\n",
              "    }\n",
              "\n",
              "    .colab-df-convert:hover {\n",
              "      background-color: #E2EBFA;\n",
              "      box-shadow: 0px 1px 2px rgba(60, 64, 67, 0.3), 0px 1px 3px 1px rgba(60, 64, 67, 0.15);\n",
              "      fill: #174EA6;\n",
              "    }\n",
              "\n",
              "    [theme=dark] .colab-df-convert {\n",
              "      background-color: #3B4455;\n",
              "      fill: #D2E3FC;\n",
              "    }\n",
              "\n",
              "    [theme=dark] .colab-df-convert:hover {\n",
              "      background-color: #434B5C;\n",
              "      box-shadow: 0px 1px 3px 1px rgba(0, 0, 0, 0.15);\n",
              "      filter: drop-shadow(0px 1px 2px rgba(0, 0, 0, 0.3));\n",
              "      fill: #FFFFFF;\n",
              "    }\n",
              "  </style>\n",
              "\n",
              "      <script>\n",
              "        const buttonEl =\n",
              "          document.querySelector('#df-29d45c69-33ac-4e0a-826a-f409b623a28a button.colab-df-convert');\n",
              "        buttonEl.style.display =\n",
              "          google.colab.kernel.accessAllowed ? 'block' : 'none';\n",
              "\n",
              "        async function convertToInteractive(key) {\n",
              "          const element = document.querySelector('#df-29d45c69-33ac-4e0a-826a-f409b623a28a');\n",
              "          const dataTable =\n",
              "            await google.colab.kernel.invokeFunction('convertToInteractive',\n",
              "                                                     [key], {});\n",
              "          if (!dataTable) return;\n",
              "\n",
              "          const docLinkHtml = 'Like what you see? Visit the ' +\n",
              "            '<a target=\"_blank\" href=https://colab.research.google.com/notebooks/data_table.ipynb>data table notebook</a>'\n",
              "            + ' to learn more about interactive tables.';\n",
              "          element.innerHTML = '';\n",
              "          dataTable['output_type'] = 'display_data';\n",
              "          await google.colab.output.renderOutput(dataTable, element);\n",
              "          const docLink = document.createElement('div');\n",
              "          docLink.innerHTML = docLinkHtml;\n",
              "          element.appendChild(docLink);\n",
              "        }\n",
              "      </script>\n",
              "    </div>\n",
              "  </div>\n",
              "  "
            ],
            "text/plain": [
              "      Activity        D1        D2    D3  ...  D1773  D1774  D1775  D1776\n",
              "0            1  0.000000  0.497009  0.10  ...      0      0      0      0\n",
              "1            1  0.366667  0.606291  0.05  ...      0      0      1      0\n",
              "2            1  0.033300  0.480124  0.00  ...      0      0      0      0\n",
              "3            1  0.000000  0.538825  0.00  ...      0      0      0      0\n",
              "4            0  0.100000  0.517794  0.00  ...      0      0      0      0\n",
              "...        ...       ...       ...   ...  ...    ...    ...    ...    ...\n",
              "3746         1  0.033300  0.506409  0.10  ...      0      0      0      0\n",
              "3747         1  0.133333  0.651023  0.15  ...      1      0      0      0\n",
              "3748         0  0.200000  0.520564  0.00  ...      0      0      0      0\n",
              "3749         1  0.100000  0.765646  0.00  ...      0      0      0      0\n",
              "3750         0  0.133333  0.533952  0.00  ...      0      0      0      0\n",
              "\n",
              "[3751 rows x 1777 columns]"
            ]
          },
          "metadata": {},
          "execution_count": 177
        }
      ]
    },
    {
      "cell_type": "code",
      "source": [
        "# Features and labels preparation\n",
        "y = df['Activity']\n",
        "X = df.drop('Activity', axis = 1)"
      ],
      "metadata": {
        "id": "OmemAYxpMNZk"
      },
      "execution_count": 178,
      "outputs": []
    },
    {
      "cell_type": "code",
      "source": [
        "# Standard features scaling\n",
        "scaler = StandardScaler()\n",
        "X=scaler.fit_transform(X)"
      ],
      "metadata": {
        "id": "y8W_nLOwMxMs"
      },
      "execution_count": 179,
      "outputs": []
    },
    {
      "cell_type": "code",
      "source": [
        "# Splitting the dataset on train and test (20% of rows)\n",
        "X_train, X_test, y_train, y_test = train_test_split(X,y,test_size=0.2, random_state=42)"
      ],
      "metadata": {
        "id": "LU5MvyNnM5OY"
      },
      "execution_count": 180,
      "outputs": []
    },
    {
      "cell_type": "code",
      "source": [
        "from sklearn import tree"
      ],
      "metadata": {
        "id": "0kFyOdLINjwn"
      },
      "execution_count": 181,
      "outputs": []
    },
    {
      "cell_type": "markdown",
      "source": [
        "## Part 1. Train 4 different classifiers using sklearn library to predict \"Activity\" (biological response of the molecule) field from the \"bioresponse.csv\" dataset"
      ],
      "metadata": {
        "id": "d0UC7RdsQfV2"
      }
    },
    {
      "cell_type": "markdown",
      "source": [
        "### Small tree creation, fitting and quality estimation"
      ],
      "metadata": {
        "id": "07WbHfrLQWwr"
      }
    },
    {
      "cell_type": "code",
      "source": [
        "# Small tree creation\n",
        "clf = tree.DecisionTreeClassifier(random_state=1, max_depth = 2)\n",
        "# Model Learing\n",
        "clf.fit(X_train, y_train)\n",
        "# Labels prediction\n",
        "y_out = clf.predict(X_test)\n",
        "# Probabilities for the objects in the test sample\n",
        "y_out_proba = clf.predict_proba(X_test)"
      ],
      "metadata": {
        "id": "zK0mdts0NP14"
      },
      "execution_count": 182,
      "outputs": []
    },
    {
      "cell_type": "code",
      "source": [
        "# Metrics for binary classification\n",
        "accuracy = m.accuracy_score(y_test,y_out)\n",
        "precision = m.precision_score(y_test,y_out)\n",
        "recall = m.recall_score(y_test,y_out)\n",
        "roc_auc = roc_auc_score(y_out,y_test)\n",
        "f1_score = m.f1_score(y_test,y_out)\n",
        "log_loss = m.log_loss(y_test, y_out)"
      ],
      "metadata": {
        "id": "oqXak9hbNYrn"
      },
      "execution_count": 183,
      "outputs": []
    },
    {
      "cell_type": "code",
      "source": [
        "print(\"Accuracy = \" + str(accuracy), \"Precision =\" + str(precision), \"Recall = \" + str(recall), \"ROC_AUC = \" + str(roc_auc), \"F1 score = \" + str(f1_score), \"LogLoss = \" + str(log_loss), sep='\\n')"
      ],
      "metadata": {
        "colab": {
          "base_uri": "https://localhost:8080/"
        },
        "id": "cp-QYhGRN9TZ",
        "outputId": "2bb38898-a6c7-4c43-efa8-ab65dbc90125"
      },
      "execution_count": 184,
      "outputs": [
        {
          "output_type": "stream",
          "name": "stdout",
          "text": [
            "Accuracy = 0.7576564580559254\n",
            "Precision =0.7980997624703088\n",
            "Recall = 0.7759815242494227\n",
            "ROC_AUC = 0.7520801842654574\n",
            "F1 score = 0.7868852459016393\n",
            "LogLoss = 8.370339906331973\n"
          ]
        }
      ]
    },
    {
      "cell_type": "code",
      "source": [
        "# precision-recall curve computation and visualization\n",
        "prec, rec, thresh = precision_recall_curve(y_test, y_out_proba[:,1])\n",
        "plt.figure(figsize=(9, 6))\n",
        "plt.grid()\n",
        "plt.plot(thresh, prec[:-1], label=\"Precision\")\n",
        "plt.plot(thresh, rec[:-1], label=\"Recall\")\n",
        "plt.xlabel(u\"Threshold\",fontsize = 15)\n",
        "plt.title(u'Precision-Recall curve',fontsize = 15)\n",
        "plt.legend(fontsize = 15)"
      ],
      "metadata": {
        "colab": {
          "base_uri": "https://localhost:8080/",
          "height": 430
        },
        "id": "yKaZrkxvloWv",
        "outputId": "a6a43352-f536-4859-a28d-76a8c82ced7a"
      },
      "execution_count": 185,
      "outputs": [
        {
          "output_type": "execute_result",
          "data": {
            "text/plain": [
              "<matplotlib.legend.Legend at 0x7f0be4417d90>"
            ]
          },
          "metadata": {},
          "execution_count": 185
        },
        {
          "output_type": "display_data",
          "data": {
            "image/png": "[encoded data removed]",
            "text/plain": [
              "<Figure size 648x432 with 1 Axes>"
            ]
          },
          "metadata": {
            "needs_background": "light"
          }
        }
      ]
    },
    {
      "cell_type": "markdown",
      "source": [
        "TODO: ROC"
      ],
      "metadata": {
        "id": "BRqwOc03nUo9"
      }
    },
    {
      "cell_type": "code",
      "source": [
        "# ROC-curve\n",
        "from sklearn.metrics import roc_curve, roc_auc_score\n",
        "fpr, tpr, thr = roc_curve(y_test, y_out_proba[:,1])\n",
        "\n",
        "plt.figure(figsize = (9,6))\n",
        "plt.plot(fpr, tpr, label=u'ROC \\n'+'ROC AUC = ' + str(round(roc_auc,2)))\n",
        "plt.grid()\n",
        "plt.xlabel(\"false positive rate\",fontsize = 15)\n",
        "plt.ylabel(\"true positive rate\",fontsize = 15)\n",
        "plt.title(u\"ROC curve\",fontsize = 15)\n",
        "plt.legend(fontsize = 15)"
      ],
      "metadata": {
        "colab": {
          "base_uri": "https://localhost:8080/",
          "height": 430
        },
        "id": "Sn3SUywbnUP4",
        "outputId": "430821c4-479c-49c1-9ebc-bac570d4cde4"
      },
      "execution_count": 186,
      "outputs": [
        {
          "output_type": "execute_result",
          "data": {
            "text/plain": [
              "<matplotlib.legend.Legend at 0x7f0be42fed10>"
            ]
          },
          "metadata": {},
          "execution_count": 186
        },
        {
          "output_type": "display_data",
          "data": {
            "image/png": "[encoded data removed]",
            "text/plain": [
              "<Figure size 648x432 with 1 Axes>"
            ]
          },
          "metadata": {
            "needs_background": "light"
          }
        }
      ]
    },
    {
      "cell_type": "markdown",
      "source": [
        "### Deep tree"
      ],
      "metadata": {
        "id": "xgr-QofrRehx"
      }
    },
    {
      "cell_type": "code",
      "source": [
        "clf = tree.DecisionTreeClassifier(random_state=1, max_depth = 40)\n",
        "# Model Learing\n",
        "clf.fit(X_train, y_train)\n",
        "# Labels prediction\n",
        "y_out = clf.predict(X_test)\n",
        "# Probabilities for the objects in the test sample\n",
        "y_out_proba = clf.predict_proba(X_test)\n",
        "np.shape(y_out_proba)"
      ],
      "metadata": {
        "colab": {
          "base_uri": "https://localhost:8080/"
        },
        "id": "SDiCoGBOQkQv",
        "outputId": "2ca9f341-6c5e-4189-ada5-90ab88cda79a"
      },
      "execution_count": 187,
      "outputs": [
        {
          "output_type": "execute_result",
          "data": {
            "text/plain": [
              "(751, 2)"
            ]
          },
          "metadata": {},
          "execution_count": 187
        }
      ]
    },
    {
      "cell_type": "code",
      "source": [
        "# Metrics for binary classification\n",
        "accuracy = m.accuracy_score(y_test,y_out)\n",
        "precision = m.precision_score(y_test,y_out)\n",
        "recall = m.recall_score(y_test,y_out)\n",
        "roc_auc = roc_auc_score(y_out,y_test)\n",
        "f1_score = m.f1_score(y_test,y_out)\n",
        "log_loss = m.log_loss(y_test, y_out)"
      ],
      "metadata": {
        "id": "Yz41-7pdQrvP"
      },
      "execution_count": 188,
      "outputs": []
    },
    {
      "cell_type": "code",
      "source": [
        "print(\"Accuracy = \" + str(accuracy), \"Precision = \" + str(precision), \"Recall = \" + str(recall), \"ROC_AUC = \" + str(roc_auc), \"F1 score = \" + str(f1_score), \"LogLoss = \" + str(log_loss), sep='\\n')"
      ],
      "metadata": {
        "colab": {
          "base_uri": "https://localhost:8080/"
        },
        "outputId": "be63852d-697b-453e-a61e-e17825270587",
        "id": "LWppGp2iQw4Q"
      },
      "execution_count": 189,
      "outputs": [
        {
          "output_type": "stream",
          "name": "stdout",
          "text": [
            "Accuracy = 0.7083888149134487\n",
            "Precision = 0.7535545023696683\n",
            "Recall = 0.7344110854503464\n",
            "ROC_AUC = 0.70200521471067\n",
            "F1 score = 0.7438596491228071\n",
            "LogLoss = 10.0720042458298\n"
          ]
        }
      ]
    },
    {
      "cell_type": "code",
      "source": [
        "prec, rec, thresh = precision_recall_curve(y_test, y_out_proba[:,1])\n",
        "plt.figure(figsize=(9, 6))\n",
        "plt.grid()\n",
        "plt.plot(thresh, prec[:-1], label=\"Precision\")\n",
        "plt.plot(thresh, rec[:-1], label=\"Recall\")\n",
        "plt.xlabel(u\"Threshold\",fontsize = 15)\n",
        "plt.title(u'Precision-Recall curve',fontsize = 15)\n",
        "plt.legend(fontsize = 15)"
      ],
      "metadata": {
        "colab": {
          "base_uri": "https://localhost:8080/",
          "height": 430
        },
        "id": "rJDGa4PWlput",
        "outputId": "92473fa1-08e8-4b15-8e02-7b0b3ba8c829"
      },
      "execution_count": 190,
      "outputs": [
        {
          "output_type": "execute_result",
          "data": {
            "text/plain": [
              "<matplotlib.legend.Legend at 0x7f0be4382310>"
            ]
          },
          "metadata": {},
          "execution_count": 190
        },
        {
          "output_type": "display_data",
          "data": {
            "image/png": "[encoded data removed]",
            "text/plain": [
              "<Figure size 648x432 with 1 Axes>"
            ]
          },
          "metadata": {
            "needs_background": "light"
          }
        }
      ]
    },
    {
      "cell_type": "code",
      "source": [
        "# ROC-curve\n",
        "from sklearn.metrics import roc_curve, roc_auc_score\n",
        "fpr, tpr, thr = roc_curve(y_test, y_out_proba[:,1])\n",
        "\n",
        "plt.figure(figsize = (9,6))\n",
        "plt.plot(fpr, tpr, label=u'ROC \\n'+'ROC AUC = ' + str(round(roc_auc,2)))\n",
        "plt.grid()\n",
        "plt.xlabel(\"false positive rate\",fontsize = 15)\n",
        "plt.ylabel(\"true positive rate\",fontsize = 15)\n",
        "plt.title(u\"ROC curve\",fontsize = 15)\n",
        "plt.legend(fontsize = 15)"
      ],
      "metadata": {
        "colab": {
          "base_uri": "https://localhost:8080/",
          "height": 430
        },
        "id": "i64VEaBlnaWU",
        "outputId": "d6922018-a21c-49b8-e640-571cc3210ec6"
      },
      "execution_count": 191,
      "outputs": [
        {
          "output_type": "execute_result",
          "data": {
            "text/plain": [
              "<matplotlib.legend.Legend at 0x7f0be5283710>"
            ]
          },
          "metadata": {},
          "execution_count": 191
        },
        {
          "output_type": "display_data",
          "data": {
            "image/png": "[encoded data removed]",
            "text/plain": [
              "<Figure size 648x432 with 1 Axes>"
            ]
          },
          "metadata": {
            "needs_background": "light"
          }
        }
      ]
    },
    {
      "cell_type": "markdown",
      "source": [
        "As we can see, deep tree has lower metrics than shorter one (we observe slight overfitting here)"
      ],
      "metadata": {
        "id": "a-w6bFLERkgx"
      }
    },
    {
      "cell_type": "markdown",
      "source": [
        "### Random forest on small trees"
      ],
      "metadata": {
        "id": "a3SjprUqR0Rj"
      }
    },
    {
      "cell_type": "code",
      "source": [
        "from sklearn.ensemble import RandomForestClassifier\n",
        "from sklearn.model_selection import  learning_curve"
      ],
      "metadata": {
        "id": "z1NIuzQZRIAZ"
      },
      "execution_count": 192,
      "outputs": []
    },
    {
      "cell_type": "code",
      "source": [
        "rf_classifier_low_depth = RandomForestClassifier(n_estimators = 50, max_depth = 2, random_state = 1)\n",
        "# Model Learing\n",
        "rf_classifier_low_depth.fit(X_train, y_train)\n",
        "# Labels prediction\n",
        "y_out = rf_classifier_low_depth.predict(X_test)\n",
        "# Probabilities for the objects in the test sample\n",
        "y_out_proba = rf_classifier_low_depth.predict_proba(X_test)"
      ],
      "metadata": {
        "id": "ik7mf7KGR_Nj"
      },
      "execution_count": 193,
      "outputs": []
    },
    {
      "cell_type": "code",
      "source": [
        "# Metrics for binary classification\n",
        "accuracy = m.accuracy_score(y_test,y_out)\n",
        "precision = m.precision_score(y_test,y_out)\n",
        "recall = m.recall_score(y_test,y_out)\n",
        "roc_auc = roc_auc_score(y_out,y_test)\n",
        "f1_score = m.f1_score(y_test,y_out)\n",
        "log_loss = m.log_loss(y_test, y_out)"
      ],
      "metadata": {
        "id": "f2oU6aOIqwPs"
      },
      "execution_count": 194,
      "outputs": []
    },
    {
      "cell_type": "code",
      "source": [
        "print(\"Accuracy = \" + str(accuracy), \"Precision = \" + str(precision), \"Recall = \" + str(recall), \"ROC_AUC = \" + str(roc_auc), \"F1 score = \" + str(f1_score), \"LogLoss = \" + str(log_loss), sep='\\n')"
      ],
      "metadata": {
        "colab": {
          "base_uri": "https://localhost:8080/"
        },
        "id": "4kRBkJ16wEZr",
        "outputId": "b3c95bc5-63b6-4278-b9d2-0fe2dc974e5f"
      },
      "execution_count": 195,
      "outputs": [
        {
          "output_type": "stream",
          "name": "stdout",
          "text": [
            "Accuracy = 0.7083888149134487\n",
            "Precision = 0.720164609053498\n",
            "Recall = 0.8083140877598153\n",
            "ROC_AUC = 0.7034785309418433\n",
            "F1 score = 0.7616974972796519\n",
            "LogLoss = 10.072038316559182\n"
          ]
        }
      ]
    },
    {
      "cell_type": "code",
      "source": [
        "# pls skip (it is just to check learning curve) \n",
        "train_sizes, train_scores, test_scores = learning_curve(rf_classifier_low_depth, X_train, y_train, \n",
        "                                                                       train_sizes=np.arange(0.1, 1., 0.2), \n",
        "                                                                       cv=3, scoring='accuracy')"
      ],
      "metadata": {
        "id": "v7KcvEqkR9s5"
      },
      "execution_count": 196,
      "outputs": []
    },
    {
      "cell_type": "code",
      "source": [
        "print (train_sizes)\n",
        "print (train_scores.mean(axis = 1))\n",
        "print (test_scores.mean(axis = 1))"
      ],
      "metadata": {
        "colab": {
          "base_uri": "https://localhost:8080/"
        },
        "id": "QYcWc019R7BX",
        "outputId": "1b4be2fc-4ade-4e9d-e94e-16c61419ad84"
      },
      "execution_count": 197,
      "outputs": [
        {
          "output_type": "stream",
          "name": "stdout",
          "text": [
            "[ 200  600 1000 1400 1800]\n",
            "[0.75166667 0.72777778 0.703      0.69928571 0.68722222]\n",
            "[0.625      0.674      0.662      0.66233333 0.66833333]\n"
          ]
        }
      ]
    },
    {
      "cell_type": "code",
      "source": [
        "prec, rec, thresh = precision_recall_curve(y_test, y_out_proba[:,1])\n",
        "plt.figure(figsize=(9, 6))\n",
        "plt.grid()\n",
        "plt.plot(thresh, prec[:-1], label=\"Precision\")\n",
        "plt.plot(thresh, rec[:-1], label=\"Recall\")\n",
        "plt.xlabel(u\"Threshold\",fontsize = 15)\n",
        "plt.title(u'Precision-Recall curve',fontsize = 15)\n",
        "plt.legend(fontsize = 15)"
      ],
      "metadata": {
        "colab": {
          "base_uri": "https://localhost:8080/",
          "height": 430
        },
        "id": "G4bLUGDplk2l",
        "outputId": "e9f90887-937f-4abd-803b-c5ecdd901afe"
      },
      "execution_count": 198,
      "outputs": [
        {
          "output_type": "execute_result",
          "data": {
            "text/plain": [
              "<matplotlib.legend.Legend at 0x7f0be4854950>"
            ]
          },
          "metadata": {},
          "execution_count": 198
        },
        {
          "output_type": "display_data",
          "data": {
            "image/png": "[encoded data removed]",
            "text/plain": [
              "<Figure size 648x432 with 1 Axes>"
            ]
          },
          "metadata": {
            "needs_background": "light"
          }
        }
      ]
    },
    {
      "cell_type": "code",
      "source": [
        "# ROC-curve\n",
        "from sklearn.metrics import roc_curve, roc_auc_score\n",
        "fpr, tpr, thr = roc_curve(y_test, y_out_proba[:,1])\n",
        "\n",
        "plt.figure(figsize = (9,6))\n",
        "plt.plot(fpr, tpr, label=u'ROC \\n'+'ROC AUC = ' + str(round(roc_auc,2)))\n",
        "plt.grid()\n",
        "plt.xlabel(\"false positive rate\",fontsize = 15)\n",
        "plt.ylabel(\"true positive rate\",fontsize = 15)\n",
        "plt.title(u\"ROC curve\",fontsize = 15)\n",
        "plt.legend(fontsize = 15)"
      ],
      "metadata": {
        "colab": {
          "base_uri": "https://localhost:8080/",
          "height": 430
        },
        "id": "JZINtD1ooNJ9",
        "outputId": "614fb8af-1449-4509-eb5d-5d8b99e1f85a"
      },
      "execution_count": 199,
      "outputs": [
        {
          "output_type": "execute_result",
          "data": {
            "text/plain": [
              "<matplotlib.legend.Legend at 0x7f0be422bcd0>"
            ]
          },
          "metadata": {},
          "execution_count": 199
        },
        {
          "output_type": "display_data",
          "data": {
            "image/png": "[encoded data removed]",
            "text/plain": [
              "<Figure size 648x432 with 1 Axes>"
            ]
          },
          "metadata": {
            "needs_background": "light"
          }
        }
      ]
    },
    {
      "cell_type": "markdown",
      "source": [
        "### Random forest on deep trees"
      ],
      "metadata": {
        "id": "84QMal4-kHP5"
      }
    },
    {
      "cell_type": "code",
      "source": [
        "rf_classifier_high_depth = RandomForestClassifier(n_estimators = 50, max_depth = 40, random_state = 1)\n",
        "# Model Learing\n",
        "rf_classifier_high_depth.fit(X_train, y_train)\n",
        "# Labels prediction\n",
        "y_out = rf_classifier_high_depth.predict(X_test)\n",
        "# Probabilities for the objects in the test sample\n",
        "y_out_proba = rf_classifier_high_depth.predict_proba(X_test)"
      ],
      "metadata": {
        "id": "LbemJIMLiSlN"
      },
      "execution_count": 200,
      "outputs": []
    },
    {
      "cell_type": "code",
      "source": [
        "# Metrics for binary classification\n",
        "accuracy = m.accuracy_score(y_test,y_out)\n",
        "precision = m.precision_score(y_test,y_out)\n",
        "recall = m.recall_score(y_test,y_out)\n",
        "roc_auc = roc_auc_score(y_out,y_test)\n",
        "f1_score = m.f1_score(y_test,y_out)\n",
        "log_loss = m.log_loss(y_test, y_out)"
      ],
      "metadata": {
        "id": "ijII9cwbqzgD"
      },
      "execution_count": 201,
      "outputs": []
    },
    {
      "cell_type": "code",
      "source": [
        "print(\"Accuracy = \" + str(accuracy), \"Precision = \" + str(precision), \"Recall = \" + str(recall), \"ROC_AUC = \" + str(roc_auc), \"F1 score = \" + str(f1_score), \"LogLoss = \" + str(log_loss), sep='\\n')"
      ],
      "metadata": {
        "colab": {
          "base_uri": "https://localhost:8080/"
        },
        "id": "E98TO06CwGaR",
        "outputId": "5022fb5b-885e-4d04-ee5f-7573c4c7bfb1"
      },
      "execution_count": 202,
      "outputs": [
        {
          "output_type": "stream",
          "name": "stdout",
          "text": [
            "Accuracy = 0.796271637816245\n",
            "Precision = 0.8286384976525821\n",
            "Recall = 0.815242494226328\n",
            "ROC_AUC = 0.7912423257493679\n",
            "F1 score = 0.8218859138533178\n",
            "LogLoss = 7.036606070617495\n"
          ]
        }
      ]
    },
    {
      "cell_type": "code",
      "source": [
        "# skip it\n",
        "train_sizes, train_scores, test_scores = learning_curve(rf_classifier_high_depth, X_train, y_train, \n",
        "                                                                       train_sizes=np.arange(0.1, 1., 0.2), \n",
        "                                                                       cv=3, scoring='accuracy')"
      ],
      "metadata": {
        "id": "aRn4zSp5iSlN"
      },
      "execution_count": 203,
      "outputs": []
    },
    {
      "cell_type": "code",
      "source": [
        "print (train_sizes)\n",
        "print (train_scores.mean(axis = 1))\n",
        "print (test_scores.mean(axis = 1))"
      ],
      "metadata": {
        "colab": {
          "base_uri": "https://localhost:8080/"
        },
        "outputId": "200e3bbf-5369-4cec-ca7f-6d095372ae59",
        "id": "35ryS98piSlO"
      },
      "execution_count": 204,
      "outputs": [
        {
          "output_type": "stream",
          "name": "stdout",
          "text": [
            "[ 200  600 1000 1400 1800]\n",
            "[1.         1.         0.99933333 1.         0.99962963]\n",
            "[0.69066667 0.73333333 0.75733333 0.76866667 0.78566667]\n"
          ]
        }
      ]
    },
    {
      "cell_type": "markdown",
      "source": [
        "We can see that model with depth = 2 is underfitted, since model with depth = 40 has better metrics on test dataset although it obviously overfitted. "
      ],
      "metadata": {
        "id": "iBykKhz5kWe8"
      }
    },
    {
      "cell_type": "code",
      "source": [
        "prec, rec, thresh = precision_recall_curve(y_test, y_out_proba[:,1])\n",
        "plt.figure(figsize=(9, 6))\n",
        "plt.grid()\n",
        "plt.plot(thresh, prec[:-1], label=\"Precision\")\n",
        "plt.plot(thresh, rec[:-1], label=\"Recall\")\n",
        "plt.xlabel(u\"Threshold\",fontsize = 15)\n",
        "plt.title(u'Precision-Recall curve',fontsize = 15)\n",
        "plt.legend(fontsize = 15)"
      ],
      "metadata": {
        "colab": {
          "base_uri": "https://localhost:8080/",
          "height": 430
        },
        "id": "ViOsW7NnRx9_",
        "outputId": "69464f04-ec72-4900-ec4a-53172ef4b77f"
      },
      "execution_count": 205,
      "outputs": [
        {
          "output_type": "execute_result",
          "data": {
            "text/plain": [
              "<matplotlib.legend.Legend at 0x7f0be435db50>"
            ]
          },
          "metadata": {},
          "execution_count": 205
        },
        {
          "output_type": "display_data",
          "data": {
            "image/png": "[encoded data removed]",
            "text/plain": [
              "<Figure size 648x432 with 1 Axes>"
            ]
          },
          "metadata": {
            "needs_background": "light"
          }
        }
      ]
    },
    {
      "cell_type": "code",
      "source": [
        "# ROC-curve\n",
        "from sklearn.metrics import roc_curve, roc_auc_score\n",
        "fpr, tpr, thr = roc_curve(y_test, y_out_proba[:,1])\n",
        "\n",
        "plt.figure(figsize = (9,6))\n",
        "plt.plot(fpr, tpr, label=u'ROC \\n'+'ROC AUC = ' + str(round(roc_auc,2)))\n",
        "plt.grid()\n",
        "plt.xlabel(\"false positive rate\",fontsize = 15)\n",
        "plt.ylabel(\"true positive rate\",fontsize = 15)\n",
        "plt.title(u\"ROC curve\",fontsize = 15)\n",
        "plt.legend(fontsize = 15)"
      ],
      "metadata": {
        "colab": {
          "base_uri": "https://localhost:8080/",
          "height": 430
        },
        "id": "z2Ea_GvgRH9g",
        "outputId": "f9822ba5-b338-4fa3-8cca-73a6390931fa"
      },
      "execution_count": 206,
      "outputs": [
        {
          "output_type": "execute_result",
          "data": {
            "text/plain": [
              "<matplotlib.legend.Legend at 0x7f0be40ccbd0>"
            ]
          },
          "metadata": {},
          "execution_count": 206
        },
        {
          "output_type": "display_data",
          "data": {
            "image/png": "[encoded data removed]",
            "text/plain": [
              "<Figure size 648x432 with 1 Axes>"
            ]
          },
          "metadata": {
            "needs_background": "light"
          }
        }
      ]
    },
    {
      "cell_type": "markdown",
      "source": [
        "# Part 2. Train a classifier that avoids Type II (False Negative) errors and calculate metrics as for previous models"
      ],
      "metadata": {
        "id": "ApqH84D8RIfG"
      }
    },
    {
      "cell_type": "code",
      "source": [
        "#  Tree creation with weighted classes to increase recall in order to avoid type II errors\n",
        "clf = tree.DecisionTreeClassifier(random_state=1, max_depth = 2, class_weight = {0: 1, 1: 4})\n",
        "# Model Learing\n",
        "clf.fit(X_train, y_train)\n",
        "# Labels prediction\n",
        "y_out = clf.predict(X_test)\n",
        "# Probabilities for the objects in the test sample\n",
        "y_out_proba = clf.predict_proba(X_test)"
      ],
      "metadata": {
        "id": "-HF9m4JksA2Q"
      },
      "execution_count": 207,
      "outputs": []
    },
    {
      "cell_type": "code",
      "source": [
        "# Metrics for binary classification\n",
        "accuracy = m.accuracy_score(y_test,y_out)\n",
        "precision = m.precision_score(y_test,y_out)\n",
        "recall = m.recall_score(y_test,y_out)\n",
        "roc_auc = roc_auc_score(y_out,y_test)\n",
        "f1_score = m.f1_score(y_test,y_out)\n",
        "log_loss = m.log_loss(y_test, y_out)"
      ],
      "metadata": {
        "id": "rbvB8YLSsA2R"
      },
      "execution_count": 208,
      "outputs": []
    },
    {
      "cell_type": "code",
      "source": [
        "print(\"Accuracy = \" + str(accuracy), \"Precision = \" + str(precision), \"Recall = \" + str(recall), \"ROC_AUC = \" + str(roc_auc), \"F1 score = \" + str(f1_score), \"LogLoss = \" + str(log_loss), sep='\\n')"
      ],
      "metadata": {
        "colab": {
          "base_uri": "https://localhost:8080/"
        },
        "outputId": "3d96a5e3-7dd9-4b5c-f8c0-16a7d0a25bbd",
        "id": "lKTVcTbAsA2S"
      },
      "execution_count": 209,
      "outputs": [
        {
          "output_type": "stream",
          "name": "stdout",
          "text": [
            "Accuracy = 0.5765645805592543\n",
            "Precision = 0.5769745649263721\n",
            "Recall = 0.9953810623556582\n",
            "ROC_AUC = 0.5384872824631861\n",
            "F1 score = 0.7305084745762712\n",
            "LogLoss = 14.625277718201781\n"
          ]
        }
      ]
    },
    {
      "cell_type": "markdown",
      "source": [
        "Recall > 0.95, which was required. However, we lose in precision and even in F1 score."
      ],
      "metadata": {
        "id": "4BlBoDtsv1vi"
      }
    },
    {
      "cell_type": "code",
      "source": [
        "prec, rec, thresh = precision_recall_curve(y_test, y_out_proba[:,1])\n",
        "plt.figure(figsize=(9, 6))\n",
        "plt.grid()\n",
        "plt.plot(thresh, prec[:-1], label=\"Precision\")\n",
        "plt.plot(thresh, rec[:-1], label=\"Recall\")\n",
        "plt.xlabel(u\"Threshold\",fontsize = 15)\n",
        "plt.title(u'Precision-Recall curve',fontsize = 15)\n",
        "plt.legend(fontsize = 15)"
      ],
      "metadata": {
        "colab": {
          "base_uri": "https://localhost:8080/",
          "height": 430
        },
        "id": "930U9a9QRKLG",
        "outputId": "56a1b969-ee27-4763-a64d-8cb161f51200"
      },
      "execution_count": 210,
      "outputs": [
        {
          "output_type": "execute_result",
          "data": {
            "text/plain": [
              "<matplotlib.legend.Legend at 0x7f0be4005110>"
            ]
          },
          "metadata": {},
          "execution_count": 210
        },
        {
          "output_type": "display_data",
          "data": {
            "image/png": "[encoded data removed]",
            "text/plain": [
              "<Figure size 648x432 with 1 Axes>"
            ]
          },
          "metadata": {
            "needs_background": "light"
          }
        }
      ]
    },
    {
      "cell_type": "code",
      "source": [
        "# ROC-curve\n",
        "from sklearn.metrics import roc_curve, roc_auc_score\n",
        "fpr, tpr, thr = roc_curve(y_test, y_out_proba[:,1])\n",
        "\n",
        "plt.figure(figsize = (9,6))\n",
        "plt.plot(fpr, tpr, label=u'ROC \\n'+'ROC AUC = ' + str(round(roc_auc,2)))\n",
        "plt.grid()\n",
        "plt.xlabel(\"false positive rate\",fontsize = 15)\n",
        "plt.ylabel(\"true positive rate\",fontsize = 15)\n",
        "plt.title(u\"ROC curve\",fontsize = 15)\n",
        "plt.legend(fontsize = 15)"
      ],
      "metadata": {
        "colab": {
          "base_uri": "https://localhost:8080/",
          "height": 430
        },
        "outputId": "3fa31923-a507-43be-eb59-79be3d4b4556",
        "id": "O-7DfjHtsA2T"
      },
      "execution_count": 211,
      "outputs": [
        {
          "output_type": "execute_result",
          "data": {
            "text/plain": [
              "<matplotlib.legend.Legend at 0x7f0be3fb7c50>"
            ]
          },
          "metadata": {},
          "execution_count": 211
        },
        {
          "output_type": "display_data",
          "data": {
            "image/png": "[encoded data removed]",
            "text/plain": [
              "<Figure size 648x432 with 1 Axes>"
            ]
          },
          "metadata": {
            "needs_background": "light"
          }
        }
      ]
    }
  ]
}